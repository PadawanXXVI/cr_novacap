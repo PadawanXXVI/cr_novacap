{
  "cells": [
    {
      "cell_type": "code",
      "execution_count": 14,
      "id": "1eaaf948",
      "metadata": {},
      "outputs": [],
      "source": [
        "# 📦 Carregar bibliotecas\n",
        "import pandas as pd\n",
        "from sqlalchemy import create_engine\n",
        "from dotenv import load_dotenv\n",
        "import os\n",
        "import plotly.express as px"
      ]
    },
    {
      "cell_type": "code",
      "execution_count": 15,
      "id": "6a146995",
      "metadata": {},
      "outputs": [],
      "source": [
        "# 🔐 Conectar usando o .env\n",
        "load_dotenv()\n",
        "db_url = os.getenv(\"DATABASE_URL\")\n",
        "engine = create_engine(db_url)"
      ]
    },
    {
      "cell_type": "code",
      "execution_count": 16,
      "id": "2d79828e",
      "metadata": {},
      "outputs": [
        {
          "data": {
            "text/html": [
              "<div>\n",
              "<style scoped>\n",
              "    .dataframe tbody tr th:only-of-type {\n",
              "        vertical-align: middle;\n",
              "    }\n",
              "\n",
              "    .dataframe tbody tr th {\n",
              "        vertical-align: top;\n",
              "    }\n",
              "\n",
              "    .dataframe thead th {\n",
              "        text-align: right;\n",
              "    }\n",
              "</style>\n",
              "<table border=\"1\" class=\"dataframe\">\n",
              "  <thead>\n",
              "    <tr style=\"text-align: right;\">\n",
              "      <th></th>\n",
              "      <th>id_processo</th>\n",
              "      <th>numero_processo</th>\n",
              "      <th>status_final</th>\n",
              "      <th>obs_processo</th>\n",
              "      <th>diretoria_destino</th>\n",
              "      <th>data_criacao_ra</th>\n",
              "      <th>data_entrada_novacap</th>\n",
              "      <th>ra_origem</th>\n",
              "      <th>id_demanda</th>\n",
              "      <th>id_tipo</th>\n",
              "      <th>usuario_responsavel</th>\n",
              "      <th>status_inicial</th>\n",
              "      <th>status_ultimo_mov</th>\n",
              "      <th>data_ultima_movimentacao</th>\n",
              "      <th>obs_movimentacao</th>\n",
              "    </tr>\n",
              "  </thead>\n",
              "  <tbody>\n",
              "    <tr>\n",
              "      <th>0</th>\n",
              "      <td>1</td>\n",
              "      <td>00143-00000229/2025-31</td>\n",
              "      <td>Enviado à Diretoria das Cidades</td>\n",
              "      <td>Sem vistoria/imagem</td>\n",
              "      <td>Diretoria das Cidades - DC</td>\n",
              "      <td>2025-01-28</td>\n",
              "      <td>2025-01-28</td>\n",
              "      <td>Santa Maria (RA XIII)</td>\n",
              "      <td>8</td>\n",
              "      <td>3</td>\n",
              "      <td>4</td>\n",
              "      <td>Enviado à Diretoria das Cidades</td>\n",
              "      <td>Enviado à Diretoria das Cidades</td>\n",
              "      <td>2025-01-28</td>\n",
              "      <td>Cadastro inicial do processo.</td>\n",
              "    </tr>\n",
              "    <tr>\n",
              "      <th>1</th>\n",
              "      <td>2</td>\n",
              "      <td>00303-00000099/2025-92</td>\n",
              "      <td>Atendido</td>\n",
              "      <td></td>\n",
              "      <td>Diretoria das Cidades - DC</td>\n",
              "      <td>2025-01-27</td>\n",
              "      <td>2025-01-28</td>\n",
              "      <td>Varjão (RA XXIII)</td>\n",
              "      <td>9</td>\n",
              "      <td>3</td>\n",
              "      <td>4</td>\n",
              "      <td>Enviado à Diretoria das Cidades</td>\n",
              "      <td>Atendido</td>\n",
              "      <td>2025-03-27</td>\n",
              "      <td>Solicitação atendida pela DMAV em 24/03/2025</td>\n",
              "    </tr>\n",
              "    <tr>\n",
              "      <th>2</th>\n",
              "      <td>3</td>\n",
              "      <td>00300-00000115/2025-21</td>\n",
              "      <td>Atendido</td>\n",
              "      <td>Enviado à DC apesar de ser SGIA</td>\n",
              "      <td>Diretoria das Cidades - DC</td>\n",
              "      <td>2025-01-24</td>\n",
              "      <td>2025-01-28</td>\n",
              "      <td>Águas Claras (RA XX)</td>\n",
              "      <td>16</td>\n",
              "      <td>3</td>\n",
              "      <td>4</td>\n",
              "      <td>Enviado à Diretoria das Cidades</td>\n",
              "      <td>Atendido</td>\n",
              "      <td>2025-03-27</td>\n",
              "      <td>Não houve necessidade de poda após a vistoria ...</td>\n",
              "    </tr>\n",
              "    <tr>\n",
              "      <th>3</th>\n",
              "      <td>4</td>\n",
              "      <td>00142-00000457/2025-39</td>\n",
              "      <td>Atendido</td>\n",
              "      <td>Enviado à DC apesar de SGIA</td>\n",
              "      <td>Diretoria das Cidades - DC</td>\n",
              "      <td>2025-01-27</td>\n",
              "      <td>2025-01-28</td>\n",
              "      <td>Samambaia (RA XII)</td>\n",
              "      <td>16</td>\n",
              "      <td>3</td>\n",
              "      <td>3</td>\n",
              "      <td>Enviado à Diretoria das Cidades</td>\n",
              "      <td>Atendido</td>\n",
              "      <td>2025-04-02</td>\n",
              "      <td>Atendido pela DMAV despacho 165230977</td>\n",
              "    </tr>\n",
              "    <tr>\n",
              "      <th>4</th>\n",
              "      <td>5</td>\n",
              "      <td>00300-00000116/2025-76</td>\n",
              "      <td>Improcedente – tramitação via SGIA</td>\n",
              "      <td>Enviado à DC apesar de SGIA</td>\n",
              "      <td>Diretoria das Cidades - DC</td>\n",
              "      <td>2025-01-24</td>\n",
              "      <td>2025-01-28</td>\n",
              "      <td>Águas Claras (RA XX)</td>\n",
              "      <td>16</td>\n",
              "      <td>3</td>\n",
              "      <td>3</td>\n",
              "      <td>Enviado à Diretoria das Cidades</td>\n",
              "      <td>Improcedente – tramitação via SGIA</td>\n",
              "      <td>2025-03-24</td>\n",
              "      <td>Após vistoria, DMAV informa árvores em bons es...</td>\n",
              "    </tr>\n",
              "  </tbody>\n",
              "</table>\n",
              "</div>"
            ],
            "text/plain": [
              "   id_processo         numero_processo                        status_final  \\\n",
              "0            1  00143-00000229/2025-31     Enviado à Diretoria das Cidades   \n",
              "1            2  00303-00000099/2025-92                            Atendido   \n",
              "2            3  00300-00000115/2025-21                            Atendido   \n",
              "3            4  00142-00000457/2025-39                            Atendido   \n",
              "4            5  00300-00000116/2025-76  Improcedente – tramitação via SGIA   \n",
              "\n",
              "                      obs_processo           diretoria_destino  \\\n",
              "0              Sem vistoria/imagem  Diretoria das Cidades - DC   \n",
              "1                                   Diretoria das Cidades - DC   \n",
              "2  Enviado à DC apesar de ser SGIA  Diretoria das Cidades - DC   \n",
              "3      Enviado à DC apesar de SGIA  Diretoria das Cidades - DC   \n",
              "4      Enviado à DC apesar de SGIA  Diretoria das Cidades - DC   \n",
              "\n",
              "  data_criacao_ra data_entrada_novacap              ra_origem  id_demanda  \\\n",
              "0      2025-01-28           2025-01-28  Santa Maria (RA XIII)           8   \n",
              "1      2025-01-27           2025-01-28      Varjão (RA XXIII)           9   \n",
              "2      2025-01-24           2025-01-28   Águas Claras (RA XX)          16   \n",
              "3      2025-01-27           2025-01-28     Samambaia (RA XII)          16   \n",
              "4      2025-01-24           2025-01-28   Águas Claras (RA XX)          16   \n",
              "\n",
              "   id_tipo  usuario_responsavel                   status_inicial  \\\n",
              "0        3                    4  Enviado à Diretoria das Cidades   \n",
              "1        3                    4  Enviado à Diretoria das Cidades   \n",
              "2        3                    4  Enviado à Diretoria das Cidades   \n",
              "3        3                    3  Enviado à Diretoria das Cidades   \n",
              "4        3                    3  Enviado à Diretoria das Cidades   \n",
              "\n",
              "                    status_ultimo_mov data_ultima_movimentacao  \\\n",
              "0     Enviado à Diretoria das Cidades               2025-01-28   \n",
              "1                            Atendido               2025-03-27   \n",
              "2                            Atendido               2025-03-27   \n",
              "3                            Atendido               2025-04-02   \n",
              "4  Improcedente – tramitação via SGIA               2025-03-24   \n",
              "\n",
              "                                    obs_movimentacao  \n",
              "0                      Cadastro inicial do processo.  \n",
              "1       Solicitação atendida pela DMAV em 24/03/2025  \n",
              "2  Não houve necessidade de poda após a vistoria ...  \n",
              "3              Atendido pela DMAV despacho 165230977  \n",
              "4  Após vistoria, DMAV informa árvores em bons es...  "
            ]
          },
          "execution_count": 16,
          "metadata": {},
          "output_type": "execute_result"
        }
      ],
      "source": [
        "# 📥 Carregar dados da VIEW vw_processos_completos\n",
        "df = pd.read_sql(\"SELECT * FROM vw_processos_completos\", con=engine)\n",
        "df.head()"
      ]
    },
    {
      "cell_type": "code",
      "execution_count": 17,
      "id": "af481a4e",
      "metadata": {},
      "outputs": [
        {
          "name": "stdout",
          "output_type": "stream",
          "text": [
            "<class 'pandas.core.frame.DataFrame'>\n",
            "RangeIndex: 418 entries, 0 to 417\n",
            "Data columns (total 15 columns):\n",
            " #   Column                    Non-Null Count  Dtype         \n",
            "---  ------                    --------------  -----         \n",
            " 0   id_processo               418 non-null    int64         \n",
            " 1   numero_processo           418 non-null    object        \n",
            " 2   status_final              418 non-null    object        \n",
            " 3   obs_processo              418 non-null    object        \n",
            " 4   diretoria_destino         418 non-null    object        \n",
            " 5   data_criacao_ra           418 non-null    object        \n",
            " 6   data_entrada_novacap      418 non-null    object        \n",
            " 7   ra_origem                 418 non-null    object        \n",
            " 8   id_demanda                418 non-null    int64         \n",
            " 9   id_tipo                   418 non-null    int64         \n",
            " 10  usuario_responsavel       418 non-null    int64         \n",
            " 11  status_inicial            418 non-null    object        \n",
            " 12  status_ultimo_mov         418 non-null    object        \n",
            " 13  data_ultima_movimentacao  418 non-null    datetime64[ns]\n",
            " 14  obs_movimentacao          418 non-null    object        \n",
            "dtypes: datetime64[ns](1), int64(4), object(10)\n",
            "memory usage: 49.1+ KB\n"
          ]
        }
      ],
      "source": [
        "# 📈 Informações gerais do DataFrame\n",
        "df.info()"
      ]
    },
    {
      "cell_type": "code",
      "execution_count": 18,
      "id": "1d8a5d68",
      "metadata": {},
      "outputs": [
        {
          "data": {
            "text/plain": [
              "status_final\n",
              "Atendido                                                                             89\n",
              "Enviado à Diretoria das Cidades                                                      85\n",
              "Enviado à Diretoria de Obras                                                         84\n",
              "Devolvido à RA de origem – adequação de requisitos                                   60\n",
              "Devolvido à RA de origem – serviço com contrato de natureza continuada pela DC/DO    41\n",
              "Improcedente – tramitação via SGIA                                                   25\n",
              "Improcedente – tramita por órgão diferente da NOVACAP                                23\n",
              "Devolvido à RA de origem – implantação                                                6\n",
              "Devolvido à RA de origem – parecer técnico de outro órgão                             4\n",
              "Encerrado pela RA de origem                                                           1\n",
              "Name: count, dtype: int64"
            ]
          },
          "execution_count": 18,
          "metadata": {},
          "output_type": "execute_result"
        }
      ],
      "source": [
        "# 📊 Quantidade por status final\n",
        "df['status_final'].value_counts()"
      ]
    },
    {
      "cell_type": "code",
      "execution_count": 19,
      "id": "10e9e4e4",
      "metadata": {},
      "outputs": [
        {
          "data": {
            "text/plain": [
              "ra_origem\n",
              "Ceilândia (RA IX)                     84\n",
              "Planaltina (RA VI)                    44\n",
              "Sobradinho (RA V)                     34\n",
              "Sudoeste/Octogonal (RA XXII)          21\n",
              "Guará (RA X)                          18\n",
              "Taguatinga (RA III)                   18\n",
              "São Sebastião (RA XIV)                16\n",
              "Plano Piloto (RA I)                   16\n",
              "Arniqueira (RA XXXIII)                16\n",
              "Samambaia (RA XII)                    15\n",
              "Arapoanga (RA XXXIV)                  15\n",
              "Brazlândia (RA IV)                    13\n",
              "Lago Norte (RA XVIII)                 11\n",
              "Sobradinho II (RA XXVI)               11\n",
              "Santa Maria (RA XIII)                 10\n",
              "Águas Claras (RA XX)                   9\n",
              "Park Way (RA XXIV)                     8\n",
              "Vicente Pires (RA XXX)                 7\n",
              "Paranoá (RA VII)                       6\n",
              "Sol Nascente/Pôr do Sol (RA XXXII)     6\n",
              "Itapoã (RA XXVIII)                     6\n",
              "Riacho Fundo II (RA XXI)               6\n",
              "Recanto das Emas (RA XV)               5\n",
              "Núcleo Bandeirante (RA VIII)           5\n",
              "SCIA – Estrutural (RA XXV)             5\n",
              "Varjão (RA XXIII)                      3\n",
              "Gama (RA II)                           3\n",
              "Água Quente (RA XXXV)                  3\n",
              "Lago Sul (RA XVI)                      2\n",
              "Riacho Fundo (RA XVII)                 2\n",
              "Name: count, dtype: int64"
            ]
          },
          "execution_count": 19,
          "metadata": {},
          "output_type": "execute_result"
        }
      ],
      "source": [
        "# 📍 Quantidade por Região Administrativa (RA)\n",
        "df['ra_origem'].value_counts()"
      ]
    },
    {
      "cell_type": "code",
      "execution_count": 20,
      "id": "9b78025d",
      "metadata": {},
      "outputs": [
        {
          "data": {
            "text/plain": [
              "mes_ano\n",
              "2020-04      1\n",
              "2024-06      1\n",
              "2024-07      2\n",
              "2024-08      5\n",
              "2024-09      8\n",
              "2024-10     12\n",
              "2024-11     17\n",
              "2024-12     21\n",
              "2025-01     56\n",
              "2025-02    138\n",
              "2025-03     95\n",
              "2025-04     58\n",
              "2025-09      1\n",
              "2025-10      1\n",
              "2025-11      1\n",
              "NaT          1\n",
              "Name: count, dtype: int64"
            ]
          },
          "execution_count": 20,
          "metadata": {},
          "output_type": "execute_result"
        }
      ],
      "source": [
        "# 🗓️ Processos por mês de entrada na Novacap\n",
        "df['data_entrada_novacap'] = pd.to_datetime(df['data_entrada_novacap'], errors='coerce')\n",
        "df['mes_ano'] = df['data_entrada_novacap'].dt.to_period('M').astype(str)\n",
        "df['mes_ano'].value_counts().sort_index()\n"
      ]
    },
    {
      "cell_type": "code",
      "execution_count": 21,
      "id": "2777e371",
      "metadata": {},
      "outputs": [
        {
          "data": {
            "application/vnd.plotly.v1+json": {
              "config": {
                "plotlyServerURL": "https://plot.ly"
              },
              "data": [
                {
                  "hovertemplate": "Região Administrativa=%{x}<br>count=%{y}<extra></extra>",
                  "legendgroup": "",
                  "marker": {
                    "color": "#636efa",
                    "pattern": {
                      "shape": ""
                    }
                  },
                  "name": "",
                  "orientation": "v",
                  "showlegend": false,
                  "textposition": "auto",
                  "type": "bar",
                  "x": [
                    "Santa Maria (RA XIII)",
                    "Varjão (RA XXIII)",
                    "Águas Claras (RA XX)",
                    "Samambaia (RA XII)",
                    "Águas Claras (RA XX)",
                    "Planaltina (RA VI)",
                    "Planaltina (RA VI)",
                    "Samambaia (RA XII)",
                    "Sobradinho (RA V)",
                    "Ceilândia (RA IX)",
                    "Ceilândia (RA IX)",
                    "Vicente Pires (RA XXX)",
                    "Vicente Pires (RA XXX)",
                    "Samambaia (RA XII)",
                    "Taguatinga (RA III)",
                    "Sudoeste/Octogonal (RA XXII)",
                    "Vicente Pires (RA XXX)",
                    "Vicente Pires (RA XXX)",
                    "Arapoanga (RA XXXIV)",
                    "Arapoanga (RA XXXIV)",
                    "Águas Claras (RA XX)",
                    "Águas Claras (RA XX)",
                    "Ceilândia (RA IX)",
                    "Ceilândia (RA IX)",
                    "Ceilândia (RA IX)",
                    "Sobradinho (RA V)",
                    "Riacho Fundo II (RA XXI)",
                    "Água Quente (RA XXXV)",
                    "Ceilândia (RA IX)",
                    "Sudoeste/Octogonal (RA XXII)",
                    "Ceilândia (RA IX)",
                    "Riacho Fundo II (RA XXI)",
                    "Vicente Pires (RA XXX)",
                    "Planaltina (RA VI)",
                    "Planaltina (RA VI)",
                    "Arapoanga (RA XXXIV)",
                    "Arapoanga (RA XXXIV)",
                    "Riacho Fundo II (RA XXI)",
                    "Riacho Fundo II (RA XXI)",
                    "Arapoanga (RA XXXIV)",
                    "Gama (RA II)",
                    "Park Way (RA XXIV)",
                    "Ceilândia (RA IX)",
                    "Ceilândia (RA IX)",
                    "Ceilândia (RA IX)",
                    "SCIA – Estrutural (RA XXV)",
                    "Park Way (RA XXIV)",
                    "Planaltina (RA VI)",
                    "Planaltina (RA VI)",
                    "Paranoá (RA VII)",
                    "Paranoá (RA VII)",
                    "Sol Nascente/Pôr do Sol (RA XXXII)",
                    "Sudoeste/Octogonal (RA XXII)",
                    "Planaltina (RA VI)",
                    "Planaltina (RA VI)",
                    "Ceilândia (RA IX)",
                    "Águas Claras (RA XX)",
                    "Itapoã (RA XXVIII)",
                    "Arniqueira (RA XXXIII)",
                    "Arniqueira (RA XXXIII)",
                    "Sudoeste/Octogonal (RA XXII)",
                    "Arniqueira (RA XXXIII)",
                    "Arapoanga (RA XXXIV)",
                    "Santa Maria (RA XIII)",
                    "Planaltina (RA VI)",
                    "Sobradinho (RA V)",
                    "Água Quente (RA XXXV)",
                    "Planaltina (RA VI)",
                    "Planaltina (RA VI)",
                    "Planaltina (RA VI)",
                    "Varjão (RA XXIII)",
                    "Sudoeste/Octogonal (RA XXII)",
                    "Planaltina (RA VI)",
                    "Sol Nascente/Pôr do Sol (RA XXXII)",
                    "Sobradinho II (RA XXVI)",
                    "Sobradinho II (RA XXVI)",
                    "Sobradinho (RA V)",
                    "Ceilândia (RA IX)",
                    "Plano Piloto (RA I)",
                    "Ceilândia (RA IX)",
                    "Ceilândia (RA IX)",
                    "Ceilândia (RA IX)",
                    "São Sebastião (RA XIV)",
                    "Ceilândia (RA IX)",
                    "Ceilândia (RA IX)",
                    "Ceilândia (RA IX)",
                    "Ceilândia (RA IX)",
                    "Ceilândia (RA IX)",
                    "Ceilândia (RA IX)",
                    "Ceilândia (RA IX)",
                    "SCIA – Estrutural (RA XXV)",
                    "São Sebastião (RA XIV)",
                    "São Sebastião (RA XIV)",
                    "SCIA – Estrutural (RA XXV)",
                    "Planaltina (RA VI)",
                    "Planaltina (RA VI)",
                    "Planaltina (RA VI)",
                    "Planaltina (RA VI)",
                    "Park Way (RA XXIV)",
                    "Sobradinho (RA V)",
                    "Guará (RA X)",
                    "Sobradinho (RA V)",
                    "Brazlândia (RA IV)",
                    "Brazlândia (RA IV)",
                    "Sol Nascente/Pôr do Sol (RA XXXII)",
                    "Arniqueira (RA XXXIII)",
                    "Sobradinho II (RA XXVI)",
                    "Guará (RA X)",
                    "Arniqueira (RA XXXIII)",
                    "Sol Nascente/Pôr do Sol (RA XXXII)",
                    "Sobradinho II (RA XXVI)",
                    "Samambaia (RA XII)",
                    "Ceilândia (RA IX)",
                    "Planaltina (RA VI)",
                    "Lago Norte (RA XVIII)",
                    "Sobradinho (RA V)",
                    "Lago Norte (RA XVIII)",
                    "Arapoanga (RA XXXIV)",
                    "Arapoanga (RA XXXIV)",
                    "Ceilândia (RA IX)",
                    "Planaltina (RA VI)",
                    "Brazlândia (RA IV)",
                    "Vicente Pires (RA XXX)",
                    "Ceilândia (RA IX)",
                    "Ceilândia (RA IX)",
                    "Ceilândia (RA IX)",
                    "Santa Maria (RA XIII)",
                    "Samambaia (RA XII)",
                    "Riacho Fundo II (RA XXI)",
                    "SCIA – Estrutural (RA XXV)",
                    "Brazlândia (RA IV)",
                    "Recanto das Emas (RA XV)",
                    "Plano Piloto (RA I)",
                    "Arniqueira (RA XXXIII)",
                    "Sudoeste/Octogonal (RA XXII)",
                    "Sobradinho II (RA XXVI)",
                    "Arniqueira (RA XXXIII)",
                    "Planaltina (RA VI)",
                    "Sol Nascente/Pôr do Sol (RA XXXII)",
                    "Plano Piloto (RA I)",
                    "Sobradinho (RA V)",
                    "Sobradinho (RA V)",
                    "Sobradinho (RA V)",
                    "Lago Norte (RA XVIII)",
                    "Park Way (RA XXIV)",
                    "Riacho Fundo II (RA XXI)",
                    "Água Quente (RA XXXV)",
                    "Guará (RA X)",
                    "Sobradinho (RA V)",
                    "Guará (RA X)",
                    "Arniqueira (RA XXXIII)",
                    "Taguatinga (RA III)",
                    "Sobradinho (RA V)",
                    "Sobradinho (RA V)",
                    "Taguatinga (RA III)",
                    "Taguatinga (RA III)",
                    "Sobradinho (RA V)",
                    "Ceilândia (RA IX)",
                    "Brazlândia (RA IV)",
                    "Sudoeste/Octogonal (RA XXII)",
                    "Sudoeste/Octogonal (RA XXII)",
                    "Lago Norte (RA XVIII)",
                    "Sobradinho (RA V)",
                    "Taguatinga (RA III)",
                    "Lago Norte (RA XVIII)",
                    "Arniqueira (RA XXXIII)",
                    "Planaltina (RA VI)",
                    "Ceilândia (RA IX)",
                    "Samambaia (RA XII)",
                    "Arapoanga (RA XXXIV)",
                    "Lago Sul (RA XVI)",
                    "Planaltina (RA VI)",
                    "Ceilândia (RA IX)",
                    "Arniqueira (RA XXXIII)",
                    "Arniqueira (RA XXXIII)",
                    "Ceilândia (RA IX)",
                    "Ceilândia (RA IX)",
                    "Lago Norte (RA XVIII)",
                    "Ceilândia (RA IX)",
                    "Paranoá (RA VII)",
                    "Paranoá (RA VII)",
                    "Paranoá (RA VII)",
                    "Paranoá (RA VII)",
                    "Ceilândia (RA IX)",
                    "Planaltina (RA VI)",
                    "Ceilândia (RA IX)",
                    "Ceilândia (RA IX)",
                    "Ceilândia (RA IX)",
                    "Ceilândia (RA IX)",
                    "Ceilândia (RA IX)",
                    "Ceilândia (RA IX)",
                    "Planaltina (RA VI)",
                    "Ceilândia (RA IX)",
                    "Ceilândia (RA IX)",
                    "São Sebastião (RA XIV)",
                    "São Sebastião (RA XIV)",
                    "Ceilândia (RA IX)",
                    "Ceilândia (RA IX)",
                    "Planaltina (RA VI)",
                    "Ceilândia (RA IX)",
                    "Ceilândia (RA IX)",
                    "Ceilândia (RA IX)",
                    "Samambaia (RA XII)",
                    "São Sebastião (RA XIV)",
                    "Ceilândia (RA IX)",
                    "Sobradinho (RA V)",
                    "Sobradinho (RA V)",
                    "Ceilândia (RA IX)",
                    "Ceilândia (RA IX)",
                    "Sobradinho (RA V)",
                    "Sobradinho (RA V)",
                    "Lago Norte (RA XVIII)",
                    "Plano Piloto (RA I)",
                    "Plano Piloto (RA I)",
                    "Sobradinho II (RA XXVI)",
                    "Santa Maria (RA XIII)",
                    "Santa Maria (RA XIII)",
                    "Núcleo Bandeirante (RA VIII)",
                    "Sobradinho II (RA XXVI)",
                    "Planaltina (RA VI)",
                    "Planaltina (RA VI)",
                    "Ceilândia (RA IX)",
                    "Samambaia (RA XII)",
                    "Ceilândia (RA IX)",
                    "Ceilândia (RA IX)",
                    "Plano Piloto (RA I)",
                    "Plano Piloto (RA I)",
                    "Sobradinho II (RA XXVI)",
                    "Sobradinho II (RA XXVI)",
                    "Plano Piloto (RA I)",
                    "Sobradinho II (RA XXVI)",
                    "Águas Claras (RA XX)",
                    "Águas Claras (RA XX)",
                    "Sobradinho (RA V)",
                    "Planaltina (RA VI)",
                    "Ceilândia (RA IX)",
                    "Ceilândia (RA IX)",
                    "São Sebastião (RA XIV)",
                    "São Sebastião (RA XIV)",
                    "São Sebastião (RA XIV)",
                    "Ceilândia (RA IX)",
                    "Guará (RA X)",
                    "São Sebastião (RA XIV)",
                    "Arapoanga (RA XXXIV)",
                    "Guará (RA X)",
                    "Vicente Pires (RA XXX)",
                    "Riacho Fundo (RA XVII)",
                    "Brazlândia (RA IV)",
                    "Guará (RA X)",
                    "Sobradinho II (RA XXVI)",
                    "Arapoanga (RA XXXIV)",
                    "Park Way (RA XXIV)",
                    "Guará (RA X)",
                    "Núcleo Bandeirante (RA VIII)",
                    "Guará (RA X)",
                    "Lago Norte (RA XVIII)",
                    "Park Way (RA XXIV)",
                    "Brazlândia (RA IV)",
                    "Brazlândia (RA IV)",
                    "Sudoeste/Octogonal (RA XXII)",
                    "Sobradinho (RA V)",
                    "Sudoeste/Octogonal (RA XXII)",
                    "Arniqueira (RA XXXIII)",
                    "Lago Norte (RA XVIII)",
                    "São Sebastião (RA XIV)",
                    "São Sebastião (RA XIV)",
                    "São Sebastião (RA XIV)",
                    "Plano Piloto (RA I)",
                    "Arapoanga (RA XXXIV)",
                    "Núcleo Bandeirante (RA VIII)",
                    "Núcleo Bandeirante (RA VIII)",
                    "Brazlândia (RA IV)",
                    "Arniqueira (RA XXXIII)",
                    "Sudoeste/Octogonal (RA XXII)",
                    "Samambaia (RA XII)",
                    "São Sebastião (RA XIV)",
                    "Brazlândia (RA IV)",
                    "Santa Maria (RA XIII)",
                    "Recanto das Emas (RA XV)",
                    "Itapoã (RA XXVIII)",
                    "Plano Piloto (RA I)",
                    "Recanto das Emas (RA XV)",
                    "Águas Claras (RA XX)",
                    "São Sebastião (RA XIV)",
                    "Ceilândia (RA IX)",
                    "São Sebastião (RA XIV)",
                    "Taguatinga (RA III)",
                    "Guará (RA X)",
                    "Guará (RA X)",
                    "Guará (RA X)",
                    "Guará (RA X)",
                    "Planaltina (RA VI)",
                    "Guará (RA X)",
                    "Guará (RA X)",
                    "Ceilândia (RA IX)",
                    "Lago Sul (RA XVI)",
                    "Gama (RA II)",
                    "Guará (RA X)",
                    "Sobradinho (RA V)",
                    "Sudoeste/Octogonal (RA XXII)",
                    "Sudoeste/Octogonal (RA XXII)",
                    "Arniqueira (RA XXXIII)",
                    "Sudoeste/Octogonal (RA XXII)",
                    "Sudoeste/Octogonal (RA XXII)",
                    "Núcleo Bandeirante (RA VIII)",
                    "Planaltina (RA VI)",
                    "Planaltina (RA VI)",
                    "Taguatinga (RA III)",
                    "Planaltina (RA VI)",
                    "Taguatinga (RA III)",
                    "Planaltina (RA VI)",
                    "Taguatinga (RA III)",
                    "Sobradinho (RA V)",
                    "Sobradinho (RA V)",
                    "Sobradinho (RA V)",
                    "Sobradinho (RA V)",
                    "Sudoeste/Octogonal (RA XXII)",
                    "Ceilândia (RA IX)",
                    "Ceilândia (RA IX)",
                    "Arapoanga (RA XXXIV)",
                    "Arapoanga (RA XXXIV)",
                    "Plano Piloto (RA I)",
                    "Sobradinho (RA V)",
                    "Samambaia (RA XII)",
                    "Planaltina (RA VI)",
                    "Ceilândia (RA IX)",
                    "Ceilândia (RA IX)",
                    "Riacho Fundo (RA XVII)",
                    "Taguatinga (RA III)",
                    "Sudoeste/Octogonal (RA XXII)",
                    "Taguatinga (RA III)",
                    "Arapoanga (RA XXXIV)",
                    "Taguatinga (RA III)",
                    "Sobradinho (RA V)",
                    "Taguatinga (RA III)",
                    "Planaltina (RA VI)",
                    "Gama (RA II)",
                    "Planaltina (RA VI)",
                    "Ceilândia (RA IX)",
                    "Ceilândia (RA IX)",
                    "Brazlândia (RA IV)",
                    "Samambaia (RA XII)",
                    "Ceilândia (RA IX)",
                    "Sobradinho (RA V)",
                    "Ceilândia (RA IX)",
                    "Ceilândia (RA IX)",
                    "Sudoeste/Octogonal (RA XXII)",
                    "Ceilândia (RA IX)",
                    "Ceilândia (RA IX)",
                    "Ceilândia (RA IX)",
                    "Ceilândia (RA IX)",
                    "Ceilândia (RA IX)",
                    "Ceilândia (RA IX)",
                    "Águas Claras (RA XX)",
                    "Plano Piloto (RA I)",
                    "Plano Piloto (RA I)",
                    "Ceilândia (RA IX)",
                    "Plano Piloto (RA I)",
                    "Ceilândia (RA IX)",
                    "Samambaia (RA XII)",
                    "Ceilândia (RA IX)",
                    "Samambaia (RA XII)",
                    "Taguatinga (RA III)",
                    "Ceilândia (RA IX)",
                    "Arniqueira (RA XXXIII)",
                    "Planaltina (RA VI)",
                    "Brazlândia (RA IV)",
                    "Planaltina (RA VI)",
                    "Sobradinho (RA V)",
                    "Sobradinho (RA V)",
                    "Recanto das Emas (RA XV)",
                    "Itapoã (RA XXVIII)",
                    "Ceilândia (RA IX)",
                    "Ceilândia (RA IX)",
                    "Taguatinga (RA III)",
                    "Planaltina (RA VI)",
                    "Planaltina (RA VI)",
                    "Lago Norte (RA XVIII)",
                    "Planaltina (RA VI)",
                    "SCIA – Estrutural (RA XXV)",
                    "Taguatinga (RA III)",
                    "Ceilândia (RA IX)",
                    "Park Way (RA XXIV)",
                    "Santa Maria (RA XIII)",
                    "Sobradinho (RA V)",
                    "Guará (RA X)",
                    "Recanto das Emas (RA XV)",
                    "Sol Nascente/Pôr do Sol (RA XXXII)",
                    "Guará (RA X)",
                    "Samambaia (RA XII)",
                    "Arniqueira (RA XXXIII)",
                    "Sudoeste/Octogonal (RA XXII)",
                    "Sobradinho (RA V)",
                    "Sudoeste/Octogonal (RA XXII)",
                    "Santa Maria (RA XIII)",
                    "Varjão (RA XXIII)",
                    "Plano Piloto (RA I)",
                    "Sudoeste/Octogonal (RA XXII)",
                    "Taguatinga (RA III)",
                    "Planaltina (RA VI)",
                    "Planaltina (RA VI)",
                    "Planaltina (RA VI)",
                    "Samambaia (RA XII)",
                    "Taguatinga (RA III)",
                    "Lago Norte (RA XVIII)",
                    "Santa Maria (RA XIII)",
                    "Plano Piloto (RA I)",
                    "Santa Maria (RA XIII)",
                    "Brazlândia (RA IV)",
                    "Ceilândia (RA IX)",
                    "Itapoã (RA XXVIII)",
                    "Itapoã (RA XXVIII)",
                    "Ceilândia (RA IX)",
                    "Sobradinho (RA V)",
                    "Ceilândia (RA IX)",
                    "Ceilândia (RA IX)",
                    "Itapoã (RA XXVIII)",
                    "Park Way (RA XXIV)"
                  ],
                  "xaxis": "x",
                  "y": {
                    "bdata": "AQEBAQEBAQEBAQEBAQEBAQEBAQEBAQEBAQEBAQEBAQEBAQEBAQEBAQEBAQEBAQEBAQEBAQEBAQEBAQEBAQEBAQEBAQEBAQEBAQEBAQEBAQEBAQEBAQEBAQEBAQEBAQEBAQEBAQEBAQEBAQEBAQEBAQEBAQEBAQEBAQEBAQEBAQEBAQEBAQEBAQEBAQEBAQEBAQEBAQEBAQEBAQEBAQEBAQEBAQEBAQEBAQEBAQEBAQEBAQEBAQEBAQEBAQEBAQEBAQEBAQEBAQEBAQEBAQEBAQEBAQEBAQEBAQEBAQEBAQEBAQEBAQEBAQEBAQEBAQEBAQEBAQEBAQEBAQEBAQEBAQEBAQEBAQEBAQEBAQEBAQEBAQEBAQEBAQEBAQEBAQEBAQEBAQEBAQEBAQEBAQEBAQEBAQEBAQEBAQEBAQEBAQEBAQEBAQEBAQEBAQEBAQEBAQEBAQEBAQEBAQEBAQEBAQEBAQEBAQEBAQEBAQEBAQEBAQEBAQEBAQEBAQEBAQEBAQEBAQEBAQEBAQEBAQEBAQEBAQEBAQEBAQEBAQEBAQEBAQ==",
                    "dtype": "i1"
                  },
                  "yaxis": "y"
                }
              ],
              "layout": {
                "barmode": "relative",
                "legend": {
                  "tracegroupgap": 0
                },
                "template": {
                  "data": {
                    "bar": [
                      {
                        "error_x": {
                          "color": "#2a3f5f"
                        },
                        "error_y": {
                          "color": "#2a3f5f"
                        },
                        "marker": {
                          "line": {
                            "color": "#E5ECF6",
                            "width": 0.5
                          },
                          "pattern": {
                            "fillmode": "overlay",
                            "size": 10,
                            "solidity": 0.2
                          }
                        },
                        "type": "bar"
                      }
                    ],
                    "barpolar": [
                      {
                        "marker": {
                          "line": {
                            "color": "#E5ECF6",
                            "width": 0.5
                          },
                          "pattern": {
                            "fillmode": "overlay",
                            "size": 10,
                            "solidity": 0.2
                          }
                        },
                        "type": "barpolar"
                      }
                    ],
                    "carpet": [
                      {
                        "aaxis": {
                          "endlinecolor": "#2a3f5f",
                          "gridcolor": "white",
                          "linecolor": "white",
                          "minorgridcolor": "white",
                          "startlinecolor": "#2a3f5f"
                        },
                        "baxis": {
                          "endlinecolor": "#2a3f5f",
                          "gridcolor": "white",
                          "linecolor": "white",
                          "minorgridcolor": "white",
                          "startlinecolor": "#2a3f5f"
                        },
                        "type": "carpet"
                      }
                    ],
                    "choropleth": [
                      {
                        "colorbar": {
                          "outlinewidth": 0,
                          "ticks": ""
                        },
                        "type": "choropleth"
                      }
                    ],
                    "contour": [
                      {
                        "colorbar": {
                          "outlinewidth": 0,
                          "ticks": ""
                        },
                        "colorscale": [
                          [
                            0,
                            "#0d0887"
                          ],
                          [
                            0.1111111111111111,
                            "#46039f"
                          ],
                          [
                            0.2222222222222222,
                            "#7201a8"
                          ],
                          [
                            0.3333333333333333,
                            "#9c179e"
                          ],
                          [
                            0.4444444444444444,
                            "#bd3786"
                          ],
                          [
                            0.5555555555555556,
                            "#d8576b"
                          ],
                          [
                            0.6666666666666666,
                            "#ed7953"
                          ],
                          [
                            0.7777777777777778,
                            "#fb9f3a"
                          ],
                          [
                            0.8888888888888888,
                            "#fdca26"
                          ],
                          [
                            1,
                            "#f0f921"
                          ]
                        ],
                        "type": "contour"
                      }
                    ],
                    "contourcarpet": [
                      {
                        "colorbar": {
                          "outlinewidth": 0,
                          "ticks": ""
                        },
                        "type": "contourcarpet"
                      }
                    ],
                    "heatmap": [
                      {
                        "colorbar": {
                          "outlinewidth": 0,
                          "ticks": ""
                        },
                        "colorscale": [
                          [
                            0,
                            "#0d0887"
                          ],
                          [
                            0.1111111111111111,
                            "#46039f"
                          ],
                          [
                            0.2222222222222222,
                            "#7201a8"
                          ],
                          [
                            0.3333333333333333,
                            "#9c179e"
                          ],
                          [
                            0.4444444444444444,
                            "#bd3786"
                          ],
                          [
                            0.5555555555555556,
                            "#d8576b"
                          ],
                          [
                            0.6666666666666666,
                            "#ed7953"
                          ],
                          [
                            0.7777777777777778,
                            "#fb9f3a"
                          ],
                          [
                            0.8888888888888888,
                            "#fdca26"
                          ],
                          [
                            1,
                            "#f0f921"
                          ]
                        ],
                        "type": "heatmap"
                      }
                    ],
                    "histogram": [
                      {
                        "marker": {
                          "pattern": {
                            "fillmode": "overlay",
                            "size": 10,
                            "solidity": 0.2
                          }
                        },
                        "type": "histogram"
                      }
                    ],
                    "histogram2d": [
                      {
                        "colorbar": {
                          "outlinewidth": 0,
                          "ticks": ""
                        },
                        "colorscale": [
                          [
                            0,
                            "#0d0887"
                          ],
                          [
                            0.1111111111111111,
                            "#46039f"
                          ],
                          [
                            0.2222222222222222,
                            "#7201a8"
                          ],
                          [
                            0.3333333333333333,
                            "#9c179e"
                          ],
                          [
                            0.4444444444444444,
                            "#bd3786"
                          ],
                          [
                            0.5555555555555556,
                            "#d8576b"
                          ],
                          [
                            0.6666666666666666,
                            "#ed7953"
                          ],
                          [
                            0.7777777777777778,
                            "#fb9f3a"
                          ],
                          [
                            0.8888888888888888,
                            "#fdca26"
                          ],
                          [
                            1,
                            "#f0f921"
                          ]
                        ],
                        "type": "histogram2d"
                      }
                    ],
                    "histogram2dcontour": [
                      {
                        "colorbar": {
                          "outlinewidth": 0,
                          "ticks": ""
                        },
                        "colorscale": [
                          [
                            0,
                            "#0d0887"
                          ],
                          [
                            0.1111111111111111,
                            "#46039f"
                          ],
                          [
                            0.2222222222222222,
                            "#7201a8"
                          ],
                          [
                            0.3333333333333333,
                            "#9c179e"
                          ],
                          [
                            0.4444444444444444,
                            "#bd3786"
                          ],
                          [
                            0.5555555555555556,
                            "#d8576b"
                          ],
                          [
                            0.6666666666666666,
                            "#ed7953"
                          ],
                          [
                            0.7777777777777778,
                            "#fb9f3a"
                          ],
                          [
                            0.8888888888888888,
                            "#fdca26"
                          ],
                          [
                            1,
                            "#f0f921"
                          ]
                        ],
                        "type": "histogram2dcontour"
                      }
                    ],
                    "mesh3d": [
                      {
                        "colorbar": {
                          "outlinewidth": 0,
                          "ticks": ""
                        },
                        "type": "mesh3d"
                      }
                    ],
                    "parcoords": [
                      {
                        "line": {
                          "colorbar": {
                            "outlinewidth": 0,
                            "ticks": ""
                          }
                        },
                        "type": "parcoords"
                      }
                    ],
                    "pie": [
                      {
                        "automargin": true,
                        "type": "pie"
                      }
                    ],
                    "scatter": [
                      {
                        "fillpattern": {
                          "fillmode": "overlay",
                          "size": 10,
                          "solidity": 0.2
                        },
                        "type": "scatter"
                      }
                    ],
                    "scatter3d": [
                      {
                        "line": {
                          "colorbar": {
                            "outlinewidth": 0,
                            "ticks": ""
                          }
                        },
                        "marker": {
                          "colorbar": {
                            "outlinewidth": 0,
                            "ticks": ""
                          }
                        },
                        "type": "scatter3d"
                      }
                    ],
                    "scattercarpet": [
                      {
                        "marker": {
                          "colorbar": {
                            "outlinewidth": 0,
                            "ticks": ""
                          }
                        },
                        "type": "scattercarpet"
                      }
                    ],
                    "scattergeo": [
                      {
                        "marker": {
                          "colorbar": {
                            "outlinewidth": 0,
                            "ticks": ""
                          }
                        },
                        "type": "scattergeo"
                      }
                    ],
                    "scattergl": [
                      {
                        "marker": {
                          "colorbar": {
                            "outlinewidth": 0,
                            "ticks": ""
                          }
                        },
                        "type": "scattergl"
                      }
                    ],
                    "scattermap": [
                      {
                        "marker": {
                          "colorbar": {
                            "outlinewidth": 0,
                            "ticks": ""
                          }
                        },
                        "type": "scattermap"
                      }
                    ],
                    "scattermapbox": [
                      {
                        "marker": {
                          "colorbar": {
                            "outlinewidth": 0,
                            "ticks": ""
                          }
                        },
                        "type": "scattermapbox"
                      }
                    ],
                    "scatterpolar": [
                      {
                        "marker": {
                          "colorbar": {
                            "outlinewidth": 0,
                            "ticks": ""
                          }
                        },
                        "type": "scatterpolar"
                      }
                    ],
                    "scatterpolargl": [
                      {
                        "marker": {
                          "colorbar": {
                            "outlinewidth": 0,
                            "ticks": ""
                          }
                        },
                        "type": "scatterpolargl"
                      }
                    ],
                    "scatterternary": [
                      {
                        "marker": {
                          "colorbar": {
                            "outlinewidth": 0,
                            "ticks": ""
                          }
                        },
                        "type": "scatterternary"
                      }
                    ],
                    "surface": [
                      {
                        "colorbar": {
                          "outlinewidth": 0,
                          "ticks": ""
                        },
                        "colorscale": [
                          [
                            0,
                            "#0d0887"
                          ],
                          [
                            0.1111111111111111,
                            "#46039f"
                          ],
                          [
                            0.2222222222222222,
                            "#7201a8"
                          ],
                          [
                            0.3333333333333333,
                            "#9c179e"
                          ],
                          [
                            0.4444444444444444,
                            "#bd3786"
                          ],
                          [
                            0.5555555555555556,
                            "#d8576b"
                          ],
                          [
                            0.6666666666666666,
                            "#ed7953"
                          ],
                          [
                            0.7777777777777778,
                            "#fb9f3a"
                          ],
                          [
                            0.8888888888888888,
                            "#fdca26"
                          ],
                          [
                            1,
                            "#f0f921"
                          ]
                        ],
                        "type": "surface"
                      }
                    ],
                    "table": [
                      {
                        "cells": {
                          "fill": {
                            "color": "#EBF0F8"
                          },
                          "line": {
                            "color": "white"
                          }
                        },
                        "header": {
                          "fill": {
                            "color": "#C8D4E3"
                          },
                          "line": {
                            "color": "white"
                          }
                        },
                        "type": "table"
                      }
                    ]
                  },
                  "layout": {
                    "annotationdefaults": {
                      "arrowcolor": "#2a3f5f",
                      "arrowhead": 0,
                      "arrowwidth": 1
                    },
                    "autotypenumbers": "strict",
                    "coloraxis": {
                      "colorbar": {
                        "outlinewidth": 0,
                        "ticks": ""
                      }
                    },
                    "colorscale": {
                      "diverging": [
                        [
                          0,
                          "#8e0152"
                        ],
                        [
                          0.1,
                          "#c51b7d"
                        ],
                        [
                          0.2,
                          "#de77ae"
                        ],
                        [
                          0.3,
                          "#f1b6da"
                        ],
                        [
                          0.4,
                          "#fde0ef"
                        ],
                        [
                          0.5,
                          "#f7f7f7"
                        ],
                        [
                          0.6,
                          "#e6f5d0"
                        ],
                        [
                          0.7,
                          "#b8e186"
                        ],
                        [
                          0.8,
                          "#7fbc41"
                        ],
                        [
                          0.9,
                          "#4d9221"
                        ],
                        [
                          1,
                          "#276419"
                        ]
                      ],
                      "sequential": [
                        [
                          0,
                          "#0d0887"
                        ],
                        [
                          0.1111111111111111,
                          "#46039f"
                        ],
                        [
                          0.2222222222222222,
                          "#7201a8"
                        ],
                        [
                          0.3333333333333333,
                          "#9c179e"
                        ],
                        [
                          0.4444444444444444,
                          "#bd3786"
                        ],
                        [
                          0.5555555555555556,
                          "#d8576b"
                        ],
                        [
                          0.6666666666666666,
                          "#ed7953"
                        ],
                        [
                          0.7777777777777778,
                          "#fb9f3a"
                        ],
                        [
                          0.8888888888888888,
                          "#fdca26"
                        ],
                        [
                          1,
                          "#f0f921"
                        ]
                      ],
                      "sequentialminus": [
                        [
                          0,
                          "#0d0887"
                        ],
                        [
                          0.1111111111111111,
                          "#46039f"
                        ],
                        [
                          0.2222222222222222,
                          "#7201a8"
                        ],
                        [
                          0.3333333333333333,
                          "#9c179e"
                        ],
                        [
                          0.4444444444444444,
                          "#bd3786"
                        ],
                        [
                          0.5555555555555556,
                          "#d8576b"
                        ],
                        [
                          0.6666666666666666,
                          "#ed7953"
                        ],
                        [
                          0.7777777777777778,
                          "#fb9f3a"
                        ],
                        [
                          0.8888888888888888,
                          "#fdca26"
                        ],
                        [
                          1,
                          "#f0f921"
                        ]
                      ]
                    },
                    "colorway": [
                      "#636efa",
                      "#EF553B",
                      "#00cc96",
                      "#ab63fa",
                      "#FFA15A",
                      "#19d3f3",
                      "#FF6692",
                      "#B6E880",
                      "#FF97FF",
                      "#FECB52"
                    ],
                    "font": {
                      "color": "#2a3f5f"
                    },
                    "geo": {
                      "bgcolor": "white",
                      "lakecolor": "white",
                      "landcolor": "#E5ECF6",
                      "showlakes": true,
                      "showland": true,
                      "subunitcolor": "white"
                    },
                    "hoverlabel": {
                      "align": "left"
                    },
                    "hovermode": "closest",
                    "mapbox": {
                      "style": "light"
                    },
                    "paper_bgcolor": "white",
                    "plot_bgcolor": "#E5ECF6",
                    "polar": {
                      "angularaxis": {
                        "gridcolor": "white",
                        "linecolor": "white",
                        "ticks": ""
                      },
                      "bgcolor": "#E5ECF6",
                      "radialaxis": {
                        "gridcolor": "white",
                        "linecolor": "white",
                        "ticks": ""
                      }
                    },
                    "scene": {
                      "xaxis": {
                        "backgroundcolor": "#E5ECF6",
                        "gridcolor": "white",
                        "gridwidth": 2,
                        "linecolor": "white",
                        "showbackground": true,
                        "ticks": "",
                        "zerolinecolor": "white"
                      },
                      "yaxis": {
                        "backgroundcolor": "#E5ECF6",
                        "gridcolor": "white",
                        "gridwidth": 2,
                        "linecolor": "white",
                        "showbackground": true,
                        "ticks": "",
                        "zerolinecolor": "white"
                      },
                      "zaxis": {
                        "backgroundcolor": "#E5ECF6",
                        "gridcolor": "white",
                        "gridwidth": 2,
                        "linecolor": "white",
                        "showbackground": true,
                        "ticks": "",
                        "zerolinecolor": "white"
                      }
                    },
                    "shapedefaults": {
                      "line": {
                        "color": "#2a3f5f"
                      }
                    },
                    "ternary": {
                      "aaxis": {
                        "gridcolor": "white",
                        "linecolor": "white",
                        "ticks": ""
                      },
                      "baxis": {
                        "gridcolor": "white",
                        "linecolor": "white",
                        "ticks": ""
                      },
                      "bgcolor": "#E5ECF6",
                      "caxis": {
                        "gridcolor": "white",
                        "linecolor": "white",
                        "ticks": ""
                      }
                    },
                    "title": {
                      "x": 0.05
                    },
                    "xaxis": {
                      "automargin": true,
                      "gridcolor": "white",
                      "linecolor": "white",
                      "ticks": "",
                      "title": {
                        "standoff": 15
                      },
                      "zerolinecolor": "white",
                      "zerolinewidth": 2
                    },
                    "yaxis": {
                      "automargin": true,
                      "gridcolor": "white",
                      "linecolor": "white",
                      "ticks": "",
                      "title": {
                        "standoff": 15
                      },
                      "zerolinecolor": "white",
                      "zerolinewidth": 2
                    }
                  }
                },
                "title": {
                  "text": "Processos por Região Administrativa (RA)"
                },
                "xaxis": {
                  "anchor": "y",
                  "domain": [
                    0,
                    1
                  ],
                  "title": {
                    "text": "Região Administrativa"
                  }
                },
                "yaxis": {
                  "anchor": "x",
                  "domain": [
                    0,
                    1
                  ],
                  "title": {
                    "text": "count"
                  }
                }
              }
            }
          },
          "metadata": {},
          "output_type": "display_data"
        }
      ],
      "source": [
        "# 📈 Gráfico: Processos por RA\n",
        "px.bar(df, x='ra_origem', title='Processos por Região Administrativa (RA)', labels={'ra_origem': 'Região Administrativa'})"
      ]
    },
    {
      "cell_type": "code",
      "execution_count": 22,
      "id": "0506f94d",
      "metadata": {},
      "outputs": [
        {
          "data": {
            "application/vnd.plotly.v1+json": {
              "config": {
                "plotlyServerURL": "https://plot.ly"
              },
              "data": [
                {
                  "bingroup": "x",
                  "hovertemplate": "Status=%{x}<br>count=%{y}<extra></extra>",
                  "legendgroup": "",
                  "marker": {
                    "color": "#636efa",
                    "pattern": {
                      "shape": ""
                    }
                  },
                  "name": "",
                  "orientation": "v",
                  "showlegend": false,
                  "type": "histogram",
                  "x": [
                    "Enviado à Diretoria das Cidades",
                    "Atendido",
                    "Atendido",
                    "Atendido",
                    "Improcedente – tramitação via SGIA",
                    "Atendido",
                    "Enviado à Diretoria das Cidades",
                    "Devolvido à RA de origem – adequação de requisitos",
                    "Enviado à Diretoria de Obras",
                    "Devolvido à RA de origem – serviço com contrato de natureza continuada pela DC/DO",
                    "Enviado à Diretoria de Obras",
                    "Enviado à Diretoria das Cidades",
                    "Enviado à Diretoria das Cidades",
                    "Enviado à Diretoria de Obras",
                    "Enviado à Diretoria das Cidades",
                    "Enviado à Diretoria das Cidades",
                    "Enviado à Diretoria de Obras",
                    "Enviado à Diretoria das Cidades",
                    "Atendido",
                    "Atendido",
                    "Devolvido à RA de origem – adequação de requisitos",
                    "Devolvido à RA de origem – adequação de requisitos",
                    "Enviado à Diretoria das Cidades",
                    "Enviado à Diretoria de Obras",
                    "Enviado à Diretoria de Obras",
                    "Enviado à Diretoria de Obras",
                    "Enviado à Diretoria das Cidades",
                    "Enviado à Diretoria das Cidades",
                    "Devolvido à RA de origem – serviço com contrato de natureza continuada pela DC/DO",
                    "Enviado à Diretoria das Cidades",
                    "Atendido",
                    "Enviado à Diretoria das Cidades",
                    "Enviado à Diretoria das Cidades",
                    "Enviado à Diretoria das Cidades",
                    "Enviado à Diretoria das Cidades",
                    "Enviado à Diretoria de Obras",
                    "Atendido",
                    "Improcedente – tramitação via SGIA",
                    "Improcedente – tramitação via SGIA",
                    "Enviado à Diretoria de Obras",
                    "Enviado à Diretoria das Cidades",
                    "Atendido",
                    "Enviado à Diretoria das Cidades",
                    "Enviado à Diretoria das Cidades",
                    "Enviado à Diretoria de Obras",
                    "Devolvido à RA de origem – adequação de requisitos",
                    "Atendido",
                    "Atendido",
                    "Devolvido à RA de origem – serviço com contrato de natureza continuada pela DC/DO",
                    "Devolvido à RA de origem – implantação",
                    "Improcedente – tramita por órgão diferente da NOVACAP",
                    "Atendido",
                    "Enviado à Diretoria de Obras",
                    "Enviado à Diretoria das Cidades",
                    "Enviado à Diretoria das Cidades",
                    "Enviado à Diretoria de Obras",
                    "Improcedente – tramita por órgão diferente da NOVACAP",
                    "Enviado à Diretoria de Obras",
                    "Enviado à Diretoria das Cidades",
                    "Atendido",
                    "Enviado à Diretoria das Cidades",
                    "Enviado à Diretoria das Cidades",
                    "Enviado à Diretoria de Obras",
                    "Atendido",
                    "Improcedente – tramitação via SGIA",
                    "Enviado à Diretoria das Cidades",
                    "Enviado à Diretoria de Obras",
                    "Enviado à Diretoria de Obras",
                    "Devolvido à RA de origem – serviço com contrato de natureza continuada pela DC/DO",
                    "Devolvido à RA de origem – adequação de requisitos",
                    "Enviado à Diretoria de Obras",
                    "Enviado à Diretoria de Obras",
                    "Devolvido à RA de origem – serviço com contrato de natureza continuada pela DC/DO",
                    "Enviado à Diretoria de Obras",
                    "Improcedente – tramitação via SGIA",
                    "Atendido",
                    "Improcedente – tramitação via SGIA",
                    "Atendido",
                    "Enviado à Diretoria de Obras",
                    "Enviado à Diretoria de Obras",
                    "Enviado à Diretoria das Cidades",
                    "Atendido",
                    "Enviado à Diretoria das Cidades",
                    "Enviado à Diretoria das Cidades",
                    "Atendido",
                    "Enviado à Diretoria das Cidades",
                    "Enviado à Diretoria das Cidades",
                    "Atendido",
                    "Enviado à Diretoria de Obras",
                    "Enviado à Diretoria de Obras",
                    "Enviado à Diretoria de Obras",
                    "Atendido",
                    "Atendido",
                    "Atendido",
                    "Enviado à Diretoria das Cidades",
                    "Enviado à Diretoria das Cidades",
                    "Enviado à Diretoria das Cidades",
                    "Enviado à Diretoria das Cidades",
                    "Atendido",
                    "Devolvido à RA de origem – serviço com contrato de natureza continuada pela DC/DO",
                    "Devolvido à RA de origem – adequação de requisitos",
                    "Enviado à Diretoria de Obras",
                    "Enviado à Diretoria de Obras",
                    "Enviado à Diretoria de Obras",
                    "Enviado à Diretoria de Obras",
                    "Atendido",
                    "Enviado à Diretoria de Obras",
                    "Devolvido à RA de origem – implantação",
                    "Enviado à Diretoria das Cidades",
                    "Atendido",
                    "Atendido",
                    "Enviado à Diretoria de Obras",
                    "Enviado à Diretoria das Cidades",
                    "Atendido",
                    "Devolvido à RA de origem – serviço com contrato de natureza continuada pela DC/DO",
                    "Enviado à Diretoria de Obras",
                    "Atendido",
                    "Atendido",
                    "Improcedente – tramita por órgão diferente da NOVACAP",
                    "Devolvido à RA de origem – serviço com contrato de natureza continuada pela DC/DO",
                    "Enviado à Diretoria das Cidades",
                    "Enviado à Diretoria de Obras",
                    "Atendido",
                    "Enviado à Diretoria das Cidades",
                    "Enviado à Diretoria das Cidades",
                    "Devolvido à RA de origem – serviço com contrato de natureza continuada pela DC/DO",
                    "Devolvido à RA de origem – serviço com contrato de natureza continuada pela DC/DO",
                    "Devolvido à RA de origem – serviço com contrato de natureza continuada pela DC/DO",
                    "Devolvido à RA de origem – adequação de requisitos",
                    "Enviado à Diretoria de Obras",
                    "Enviado à Diretoria de Obras",
                    "Devolvido à RA de origem – adequação de requisitos",
                    "Devolvido à RA de origem – adequação de requisitos",
                    "Enviado à Diretoria das Cidades",
                    "Enviado à Diretoria das Cidades",
                    "Enviado à Diretoria de Obras",
                    "Enviado à Diretoria das Cidades",
                    "Enviado à Diretoria de Obras",
                    "Improcedente – tramita por órgão diferente da NOVACAP",
                    "Enviado à Diretoria das Cidades",
                    "Devolvido à RA de origem – serviço com contrato de natureza continuada pela DC/DO",
                    "Enviado à Diretoria das Cidades",
                    "Atendido",
                    "Enviado à Diretoria das Cidades",
                    "Devolvido à RA de origem – serviço com contrato de natureza continuada pela DC/DO",
                    "Devolvido à RA de origem – adequação de requisitos",
                    "Devolvido à RA de origem – adequação de requisitos",
                    "Enviado à Diretoria de Obras",
                    "Enviado à Diretoria das Cidades",
                    "Devolvido à RA de origem – serviço com contrato de natureza continuada pela DC/DO",
                    "Enviado à Diretoria das Cidades",
                    "Atendido",
                    "Devolvido à RA de origem – adequação de requisitos",
                    "Devolvido à RA de origem – adequação de requisitos",
                    "Enviado à Diretoria de Obras",
                    "Atendido",
                    "Devolvido à RA de origem – adequação de requisitos",
                    "Enviado à Diretoria de Obras",
                    "Devolvido à RA de origem – adequação de requisitos",
                    "Enviado à Diretoria das Cidades",
                    "Improcedente – tramita por órgão diferente da NOVACAP",
                    "Devolvido à RA de origem – serviço com contrato de natureza continuada pela DC/DO",
                    "Devolvido à RA de origem – serviço com contrato de natureza continuada pela DC/DO",
                    "Enviado à Diretoria das Cidades",
                    "Atendido",
                    "Improcedente – tramita por órgão diferente da NOVACAP",
                    "Enviado à Diretoria de Obras",
                    "Enviado à Diretoria de Obras",
                    "Devolvido à RA de origem – adequação de requisitos",
                    "Atendido",
                    "Enviado à Diretoria de Obras",
                    "Enviado à Diretoria de Obras",
                    "Devolvido à RA de origem – adequação de requisitos",
                    "Improcedente – tramitação via SGIA",
                    "Improcedente – tramitação via SGIA",
                    "Devolvido à RA de origem – serviço com contrato de natureza continuada pela DC/DO",
                    "Devolvido à RA de origem – serviço com contrato de natureza continuada pela DC/DO",
                    "Atendido",
                    "Enviado à Diretoria de Obras",
                    "Improcedente – tramitação via SGIA",
                    "Improcedente – tramitação via SGIA",
                    "Improcedente – tramitação via SGIA",
                    "Improcedente – tramitação via SGIA",
                    "Enviado à Diretoria de Obras",
                    "Enviado à Diretoria de Obras",
                    "Atendido",
                    "Devolvido à RA de origem – serviço com contrato de natureza continuada pela DC/DO",
                    "Atendido",
                    "Enviado à Diretoria de Obras",
                    "Atendido",
                    "Enviado à Diretoria de Obras",
                    "Atendido",
                    "Atendido",
                    "Atendido",
                    "Atendido",
                    "Atendido",
                    "Enviado à Diretoria de Obras",
                    "Atendido",
                    "Devolvido à RA de origem – serviço com contrato de natureza continuada pela DC/DO",
                    "Atendido",
                    "Atendido",
                    "Atendido",
                    "Devolvido à RA de origem – serviço com contrato de natureza continuada pela DC/DO",
                    "Atendido",
                    "Atendido",
                    "Devolvido à RA de origem – serviço com contrato de natureza continuada pela DC/DO",
                    "Devolvido à RA de origem – serviço com contrato de natureza continuada pela DC/DO",
                    "Atendido",
                    "Atendido",
                    "Enviado à Diretoria das Cidades",
                    "Enviado à Diretoria das Cidades",
                    "Enviado à Diretoria das Cidades",
                    "Improcedente – tramitação via SGIA",
                    "Improcedente – tramitação via SGIA",
                    "Enviado à Diretoria de Obras",
                    "Atendido",
                    "Atendido",
                    "Devolvido à RA de origem – serviço com contrato de natureza continuada pela DC/DO",
                    "Enviado à Diretoria de Obras",
                    "Improcedente – tramita por órgão diferente da NOVACAP",
                    "Enviado à Diretoria das Cidades",
                    "Atendido",
                    "Atendido",
                    "Atendido",
                    "Devolvido à RA de origem – serviço com contrato de natureza continuada pela DC/DO",
                    "Improcedente – tramitação via SGIA",
                    "Improcedente – tramitação via SGIA",
                    "Improcedente – tramitação via SGIA",
                    "Improcedente – tramitação via SGIA",
                    "Enviado à Diretoria das Cidades",
                    "Encerrado pela RA de origem",
                    "Improcedente – tramitação via SGIA",
                    "Improcedente – tramitação via SGIA",
                    "Devolvido à RA de origem – adequação de requisitos",
                    "Devolvido à RA de origem – parecer técnico de outro órgão",
                    "Enviado à Diretoria de Obras",
                    "Atendido",
                    "Devolvido à RA de origem – serviço com contrato de natureza continuada pela DC/DO",
                    "Enviado à Diretoria de Obras",
                    "Devolvido à RA de origem – serviço com contrato de natureza continuada pela DC/DO",
                    "Atendido",
                    "Atendido",
                    "Devolvido à RA de origem – serviço com contrato de natureza continuada pela DC/DO",
                    "Improcedente – tramita por órgão diferente da NOVACAP",
                    "Enviado à Diretoria das Cidades",
                    "Devolvido à RA de origem – implantação",
                    "Atendido",
                    "Devolvido à RA de origem – adequação de requisitos",
                    "Enviado à Diretoria das Cidades",
                    "Enviado à Diretoria das Cidades",
                    "Improcedente – tramita por órgão diferente da NOVACAP",
                    "Atendido",
                    "Devolvido à RA de origem – serviço com contrato de natureza continuada pela DC/DO",
                    "Devolvido à RA de origem – serviço com contrato de natureza continuada pela DC/DO",
                    "Devolvido à RA de origem – serviço com contrato de natureza continuada pela DC/DO",
                    "Improcedente – tramita por órgão diferente da NOVACAP",
                    "Improcedente – tramita por órgão diferente da NOVACAP",
                    "Atendido",
                    "Atendido",
                    "Enviado à Diretoria das Cidades",
                    "Enviado à Diretoria de Obras",
                    "Devolvido à RA de origem – adequação de requisitos",
                    "Devolvido à RA de origem – adequação de requisitos",
                    "Improcedente – tramitação via SGIA",
                    "Improcedente – tramita por órgão diferente da NOVACAP",
                    "Improcedente – tramita por órgão diferente da NOVACAP",
                    "Improcedente – tramita por órgão diferente da NOVACAP",
                    "Devolvido à RA de origem – adequação de requisitos",
                    "Devolvido à RA de origem – adequação de requisitos",
                    "Devolvido à RA de origem – adequação de requisitos",
                    "Devolvido à RA de origem – adequação de requisitos",
                    "Devolvido à RA de origem – adequação de requisitos",
                    "Atendido",
                    "Devolvido à RA de origem – adequação de requisitos",
                    "Devolvido à RA de origem – adequação de requisitos",
                    "Improcedente – tramitação via SGIA",
                    "Devolvido à RA de origem – adequação de requisitos",
                    "Devolvido à RA de origem – adequação de requisitos",
                    "Enviado à Diretoria das Cidades",
                    "Devolvido à RA de origem – adequação de requisitos",
                    "Atendido",
                    "Devolvido à RA de origem – adequação de requisitos",
                    "Devolvido à RA de origem – adequação de requisitos",
                    "Atendido",
                    "Devolvido à RA de origem – adequação de requisitos",
                    "Atendido",
                    "Devolvido à RA de origem – serviço com contrato de natureza continuada pela DC/DO",
                    "Enviado à Diretoria de Obras",
                    "Devolvido à RA de origem – adequação de requisitos",
                    "Devolvido à RA de origem – serviço com contrato de natureza continuada pela DC/DO",
                    "Devolvido à RA de origem – adequação de requisitos",
                    "Atendido",
                    "Devolvido à RA de origem – adequação de requisitos",
                    "Enviado à Diretoria de Obras",
                    "Devolvido à RA de origem – serviço com contrato de natureza continuada pela DC/DO",
                    "Devolvido à RA de origem – serviço com contrato de natureza continuada pela DC/DO",
                    "Devolvido à RA de origem – adequação de requisitos",
                    "Devolvido à RA de origem – adequação de requisitos",
                    "Atendido",
                    "Devolvido à RA de origem – serviço com contrato de natureza continuada pela DC/DO",
                    "Atendido",
                    "Atendido",
                    "Atendido",
                    "Atendido",
                    "Enviado à Diretoria das Cidades",
                    "Enviado à Diretoria de Obras",
                    "Devolvido à RA de origem – implantação",
                    "Enviado à Diretoria das Cidades",
                    "Atendido",
                    "Devolvido à RA de origem – parecer técnico de outro órgão",
                    "Improcedente – tramita por órgão diferente da NOVACAP",
                    "Improcedente – tramita por órgão diferente da NOVACAP",
                    "Atendido",
                    "Enviado à Diretoria de Obras",
                    "Improcedente – tramita por órgão diferente da NOVACAP",
                    "Improcedente – tramita por órgão diferente da NOVACAP",
                    "Enviado à Diretoria das Cidades",
                    "Enviado à Diretoria de Obras",
                    "Devolvido à RA de origem – parecer técnico de outro órgão",
                    "Enviado à Diretoria de Obras",
                    "Enviado à Diretoria de Obras",
                    "Enviado à Diretoria de Obras",
                    "Enviado à Diretoria das Cidades",
                    "Devolvido à RA de origem – adequação de requisitos",
                    "Enviado à Diretoria de Obras",
                    "Devolvido à RA de origem – parecer técnico de outro órgão",
                    "Enviado à Diretoria das Cidades",
                    "Improcedente – tramitação via SGIA",
                    "Devolvido à RA de origem – serviço com contrato de natureza continuada pela DC/DO",
                    "Atendido",
                    "Devolvido à RA de origem – implantação",
                    "Enviado à Diretoria de Obras",
                    "Enviado à Diretoria de Obras",
                    "Enviado à Diretoria de Obras",
                    "Enviado à Diretoria de Obras",
                    "Enviado à Diretoria de Obras",
                    "Enviado à Diretoria de Obras",
                    "Improcedente – tramita por órgão diferente da NOVACAP",
                    "Improcedente – tramita por órgão diferente da NOVACAP",
                    "Atendido",
                    "Devolvido à RA de origem – adequação de requisitos",
                    "Devolvido à RA de origem – adequação de requisitos",
                    "Enviado à Diretoria de Obras",
                    "Enviado à Diretoria das Cidades",
                    "Enviado à Diretoria de Obras",
                    "Enviado à Diretoria de Obras",
                    "Atendido",
                    "Enviado à Diretoria das Cidades",
                    "Devolvido à RA de origem – adequação de requisitos",
                    "Enviado à Diretoria de Obras",
                    "Enviado à Diretoria das Cidades",
                    "Enviado à Diretoria de Obras",
                    "Atendido",
                    "Enviado à Diretoria das Cidades",
                    "Devolvido à RA de origem – adequação de requisitos",
                    "Devolvido à RA de origem – adequação de requisitos",
                    "Devolvido à RA de origem – adequação de requisitos",
                    "Devolvido à RA de origem – adequação de requisitos",
                    "Devolvido à RA de origem – adequação de requisitos",
                    "Improcedente – tramita por órgão diferente da NOVACAP",
                    "Enviado à Diretoria das Cidades",
                    "Devolvido à RA de origem – adequação de requisitos",
                    "Enviado à Diretoria das Cidades",
                    "Enviado à Diretoria de Obras",
                    "Enviado à Diretoria das Cidades",
                    "Enviado à Diretoria de Obras",
                    "Enviado à Diretoria das Cidades",
                    "Improcedente – tramita por órgão diferente da NOVACAP",
                    "Devolvido à RA de origem – adequação de requisitos",
                    "Enviado à Diretoria de Obras",
                    "Enviado à Diretoria das Cidades",
                    "Enviado à Diretoria das Cidades",
                    "Enviado à Diretoria de Obras",
                    "Enviado à Diretoria de Obras",
                    "Atendido",
                    "Improcedente – tramitação via SGIA",
                    "Improcedente – tramitação via SGIA",
                    "Atendido",
                    "Improcedente – tramita por órgão diferente da NOVACAP",
                    "Atendido",
                    "Atendido",
                    "Devolvido à RA de origem – serviço com contrato de natureza continuada pela DC/DO",
                    "Enviado à Diretoria das Cidades",
                    "Enviado à Diretoria das Cidades",
                    "Enviado à Diretoria de Obras",
                    "Enviado à Diretoria das Cidades",
                    "Devolvido à RA de origem – adequação de requisitos",
                    "Enviado à Diretoria das Cidades",
                    "Enviado à Diretoria das Cidades",
                    "Enviado à Diretoria de Obras",
                    "Enviado à Diretoria das Cidades",
                    "Enviado à Diretoria das Cidades",
                    "Atendido",
                    "Atendido",
                    "Devolvido à RA de origem – serviço com contrato de natureza continuada pela DC/DO",
                    "Devolvido à RA de origem – adequação de requisitos",
                    "Devolvido à RA de origem – adequação de requisitos",
                    "Enviado à Diretoria das Cidades",
                    "Enviado à Diretoria de Obras",
                    "Devolvido à RA de origem – adequação de requisitos",
                    "Enviado à Diretoria de Obras",
                    "Enviado à Diretoria de Obras",
                    "Enviado à Diretoria das Cidades",
                    "Enviado à Diretoria das Cidades",
                    "Devolvido à RA de origem – adequação de requisitos",
                    "Enviado à Diretoria das Cidades",
                    "Devolvido à RA de origem – adequação de requisitos",
                    "Enviado à Diretoria das Cidades",
                    "Devolvido à RA de origem – adequação de requisitos",
                    "Devolvido à RA de origem – serviço com contrato de natureza continuada pela DC/DO",
                    "Devolvido à RA de origem – adequação de requisitos",
                    "Devolvido à RA de origem – adequação de requisitos",
                    "Devolvido à RA de origem – serviço com contrato de natureza continuada pela DC/DO",
                    "Atendido",
                    "Atendido",
                    "Atendido",
                    "Devolvido à RA de origem – adequação de requisitos",
                    "Devolvido à RA de origem – implantação"
                  ],
                  "xaxis": "x",
                  "yaxis": "y"
                }
              ],
              "layout": {
                "barmode": "relative",
                "legend": {
                  "tracegroupgap": 0
                },
                "template": {
                  "data": {
                    "bar": [
                      {
                        "error_x": {
                          "color": "#2a3f5f"
                        },
                        "error_y": {
                          "color": "#2a3f5f"
                        },
                        "marker": {
                          "line": {
                            "color": "#E5ECF6",
                            "width": 0.5
                          },
                          "pattern": {
                            "fillmode": "overlay",
                            "size": 10,
                            "solidity": 0.2
                          }
                        },
                        "type": "bar"
                      }
                    ],
                    "barpolar": [
                      {
                        "marker": {
                          "line": {
                            "color": "#E5ECF6",
                            "width": 0.5
                          },
                          "pattern": {
                            "fillmode": "overlay",
                            "size": 10,
                            "solidity": 0.2
                          }
                        },
                        "type": "barpolar"
                      }
                    ],
                    "carpet": [
                      {
                        "aaxis": {
                          "endlinecolor": "#2a3f5f",
                          "gridcolor": "white",
                          "linecolor": "white",
                          "minorgridcolor": "white",
                          "startlinecolor": "#2a3f5f"
                        },
                        "baxis": {
                          "endlinecolor": "#2a3f5f",
                          "gridcolor": "white",
                          "linecolor": "white",
                          "minorgridcolor": "white",
                          "startlinecolor": "#2a3f5f"
                        },
                        "type": "carpet"
                      }
                    ],
                    "choropleth": [
                      {
                        "colorbar": {
                          "outlinewidth": 0,
                          "ticks": ""
                        },
                        "type": "choropleth"
                      }
                    ],
                    "contour": [
                      {
                        "colorbar": {
                          "outlinewidth": 0,
                          "ticks": ""
                        },
                        "colorscale": [
                          [
                            0,
                            "#0d0887"
                          ],
                          [
                            0.1111111111111111,
                            "#46039f"
                          ],
                          [
                            0.2222222222222222,
                            "#7201a8"
                          ],
                          [
                            0.3333333333333333,
                            "#9c179e"
                          ],
                          [
                            0.4444444444444444,
                            "#bd3786"
                          ],
                          [
                            0.5555555555555556,
                            "#d8576b"
                          ],
                          [
                            0.6666666666666666,
                            "#ed7953"
                          ],
                          [
                            0.7777777777777778,
                            "#fb9f3a"
                          ],
                          [
                            0.8888888888888888,
                            "#fdca26"
                          ],
                          [
                            1,
                            "#f0f921"
                          ]
                        ],
                        "type": "contour"
                      }
                    ],
                    "contourcarpet": [
                      {
                        "colorbar": {
                          "outlinewidth": 0,
                          "ticks": ""
                        },
                        "type": "contourcarpet"
                      }
                    ],
                    "heatmap": [
                      {
                        "colorbar": {
                          "outlinewidth": 0,
                          "ticks": ""
                        },
                        "colorscale": [
                          [
                            0,
                            "#0d0887"
                          ],
                          [
                            0.1111111111111111,
                            "#46039f"
                          ],
                          [
                            0.2222222222222222,
                            "#7201a8"
                          ],
                          [
                            0.3333333333333333,
                            "#9c179e"
                          ],
                          [
                            0.4444444444444444,
                            "#bd3786"
                          ],
                          [
                            0.5555555555555556,
                            "#d8576b"
                          ],
                          [
                            0.6666666666666666,
                            "#ed7953"
                          ],
                          [
                            0.7777777777777778,
                            "#fb9f3a"
                          ],
                          [
                            0.8888888888888888,
                            "#fdca26"
                          ],
                          [
                            1,
                            "#f0f921"
                          ]
                        ],
                        "type": "heatmap"
                      }
                    ],
                    "histogram": [
                      {
                        "marker": {
                          "pattern": {
                            "fillmode": "overlay",
                            "size": 10,
                            "solidity": 0.2
                          }
                        },
                        "type": "histogram"
                      }
                    ],
                    "histogram2d": [
                      {
                        "colorbar": {
                          "outlinewidth": 0,
                          "ticks": ""
                        },
                        "colorscale": [
                          [
                            0,
                            "#0d0887"
                          ],
                          [
                            0.1111111111111111,
                            "#46039f"
                          ],
                          [
                            0.2222222222222222,
                            "#7201a8"
                          ],
                          [
                            0.3333333333333333,
                            "#9c179e"
                          ],
                          [
                            0.4444444444444444,
                            "#bd3786"
                          ],
                          [
                            0.5555555555555556,
                            "#d8576b"
                          ],
                          [
                            0.6666666666666666,
                            "#ed7953"
                          ],
                          [
                            0.7777777777777778,
                            "#fb9f3a"
                          ],
                          [
                            0.8888888888888888,
                            "#fdca26"
                          ],
                          [
                            1,
                            "#f0f921"
                          ]
                        ],
                        "type": "histogram2d"
                      }
                    ],
                    "histogram2dcontour": [
                      {
                        "colorbar": {
                          "outlinewidth": 0,
                          "ticks": ""
                        },
                        "colorscale": [
                          [
                            0,
                            "#0d0887"
                          ],
                          [
                            0.1111111111111111,
                            "#46039f"
                          ],
                          [
                            0.2222222222222222,
                            "#7201a8"
                          ],
                          [
                            0.3333333333333333,
                            "#9c179e"
                          ],
                          [
                            0.4444444444444444,
                            "#bd3786"
                          ],
                          [
                            0.5555555555555556,
                            "#d8576b"
                          ],
                          [
                            0.6666666666666666,
                            "#ed7953"
                          ],
                          [
                            0.7777777777777778,
                            "#fb9f3a"
                          ],
                          [
                            0.8888888888888888,
                            "#fdca26"
                          ],
                          [
                            1,
                            "#f0f921"
                          ]
                        ],
                        "type": "histogram2dcontour"
                      }
                    ],
                    "mesh3d": [
                      {
                        "colorbar": {
                          "outlinewidth": 0,
                          "ticks": ""
                        },
                        "type": "mesh3d"
                      }
                    ],
                    "parcoords": [
                      {
                        "line": {
                          "colorbar": {
                            "outlinewidth": 0,
                            "ticks": ""
                          }
                        },
                        "type": "parcoords"
                      }
                    ],
                    "pie": [
                      {
                        "automargin": true,
                        "type": "pie"
                      }
                    ],
                    "scatter": [
                      {
                        "fillpattern": {
                          "fillmode": "overlay",
                          "size": 10,
                          "solidity": 0.2
                        },
                        "type": "scatter"
                      }
                    ],
                    "scatter3d": [
                      {
                        "line": {
                          "colorbar": {
                            "outlinewidth": 0,
                            "ticks": ""
                          }
                        },
                        "marker": {
                          "colorbar": {
                            "outlinewidth": 0,
                            "ticks": ""
                          }
                        },
                        "type": "scatter3d"
                      }
                    ],
                    "scattercarpet": [
                      {
                        "marker": {
                          "colorbar": {
                            "outlinewidth": 0,
                            "ticks": ""
                          }
                        },
                        "type": "scattercarpet"
                      }
                    ],
                    "scattergeo": [
                      {
                        "marker": {
                          "colorbar": {
                            "outlinewidth": 0,
                            "ticks": ""
                          }
                        },
                        "type": "scattergeo"
                      }
                    ],
                    "scattergl": [
                      {
                        "marker": {
                          "colorbar": {
                            "outlinewidth": 0,
                            "ticks": ""
                          }
                        },
                        "type": "scattergl"
                      }
                    ],
                    "scattermap": [
                      {
                        "marker": {
                          "colorbar": {
                            "outlinewidth": 0,
                            "ticks": ""
                          }
                        },
                        "type": "scattermap"
                      }
                    ],
                    "scattermapbox": [
                      {
                        "marker": {
                          "colorbar": {
                            "outlinewidth": 0,
                            "ticks": ""
                          }
                        },
                        "type": "scattermapbox"
                      }
                    ],
                    "scatterpolar": [
                      {
                        "marker": {
                          "colorbar": {
                            "outlinewidth": 0,
                            "ticks": ""
                          }
                        },
                        "type": "scatterpolar"
                      }
                    ],
                    "scatterpolargl": [
                      {
                        "marker": {
                          "colorbar": {
                            "outlinewidth": 0,
                            "ticks": ""
                          }
                        },
                        "type": "scatterpolargl"
                      }
                    ],
                    "scatterternary": [
                      {
                        "marker": {
                          "colorbar": {
                            "outlinewidth": 0,
                            "ticks": ""
                          }
                        },
                        "type": "scatterternary"
                      }
                    ],
                    "surface": [
                      {
                        "colorbar": {
                          "outlinewidth": 0,
                          "ticks": ""
                        },
                        "colorscale": [
                          [
                            0,
                            "#0d0887"
                          ],
                          [
                            0.1111111111111111,
                            "#46039f"
                          ],
                          [
                            0.2222222222222222,
                            "#7201a8"
                          ],
                          [
                            0.3333333333333333,
                            "#9c179e"
                          ],
                          [
                            0.4444444444444444,
                            "#bd3786"
                          ],
                          [
                            0.5555555555555556,
                            "#d8576b"
                          ],
                          [
                            0.6666666666666666,
                            "#ed7953"
                          ],
                          [
                            0.7777777777777778,
                            "#fb9f3a"
                          ],
                          [
                            0.8888888888888888,
                            "#fdca26"
                          ],
                          [
                            1,
                            "#f0f921"
                          ]
                        ],
                        "type": "surface"
                      }
                    ],
                    "table": [
                      {
                        "cells": {
                          "fill": {
                            "color": "#EBF0F8"
                          },
                          "line": {
                            "color": "white"
                          }
                        },
                        "header": {
                          "fill": {
                            "color": "#C8D4E3"
                          },
                          "line": {
                            "color": "white"
                          }
                        },
                        "type": "table"
                      }
                    ]
                  },
                  "layout": {
                    "annotationdefaults": {
                      "arrowcolor": "#2a3f5f",
                      "arrowhead": 0,
                      "arrowwidth": 1
                    },
                    "autotypenumbers": "strict",
                    "coloraxis": {
                      "colorbar": {
                        "outlinewidth": 0,
                        "ticks": ""
                      }
                    },
                    "colorscale": {
                      "diverging": [
                        [
                          0,
                          "#8e0152"
                        ],
                        [
                          0.1,
                          "#c51b7d"
                        ],
                        [
                          0.2,
                          "#de77ae"
                        ],
                        [
                          0.3,
                          "#f1b6da"
                        ],
                        [
                          0.4,
                          "#fde0ef"
                        ],
                        [
                          0.5,
                          "#f7f7f7"
                        ],
                        [
                          0.6,
                          "#e6f5d0"
                        ],
                        [
                          0.7,
                          "#b8e186"
                        ],
                        [
                          0.8,
                          "#7fbc41"
                        ],
                        [
                          0.9,
                          "#4d9221"
                        ],
                        [
                          1,
                          "#276419"
                        ]
                      ],
                      "sequential": [
                        [
                          0,
                          "#0d0887"
                        ],
                        [
                          0.1111111111111111,
                          "#46039f"
                        ],
                        [
                          0.2222222222222222,
                          "#7201a8"
                        ],
                        [
                          0.3333333333333333,
                          "#9c179e"
                        ],
                        [
                          0.4444444444444444,
                          "#bd3786"
                        ],
                        [
                          0.5555555555555556,
                          "#d8576b"
                        ],
                        [
                          0.6666666666666666,
                          "#ed7953"
                        ],
                        [
                          0.7777777777777778,
                          "#fb9f3a"
                        ],
                        [
                          0.8888888888888888,
                          "#fdca26"
                        ],
                        [
                          1,
                          "#f0f921"
                        ]
                      ],
                      "sequentialminus": [
                        [
                          0,
                          "#0d0887"
                        ],
                        [
                          0.1111111111111111,
                          "#46039f"
                        ],
                        [
                          0.2222222222222222,
                          "#7201a8"
                        ],
                        [
                          0.3333333333333333,
                          "#9c179e"
                        ],
                        [
                          0.4444444444444444,
                          "#bd3786"
                        ],
                        [
                          0.5555555555555556,
                          "#d8576b"
                        ],
                        [
                          0.6666666666666666,
                          "#ed7953"
                        ],
                        [
                          0.7777777777777778,
                          "#fb9f3a"
                        ],
                        [
                          0.8888888888888888,
                          "#fdca26"
                        ],
                        [
                          1,
                          "#f0f921"
                        ]
                      ]
                    },
                    "colorway": [
                      "#636efa",
                      "#EF553B",
                      "#00cc96",
                      "#ab63fa",
                      "#FFA15A",
                      "#19d3f3",
                      "#FF6692",
                      "#B6E880",
                      "#FF97FF",
                      "#FECB52"
                    ],
                    "font": {
                      "color": "#2a3f5f"
                    },
                    "geo": {
                      "bgcolor": "white",
                      "lakecolor": "white",
                      "landcolor": "#E5ECF6",
                      "showlakes": true,
                      "showland": true,
                      "subunitcolor": "white"
                    },
                    "hoverlabel": {
                      "align": "left"
                    },
                    "hovermode": "closest",
                    "mapbox": {
                      "style": "light"
                    },
                    "paper_bgcolor": "white",
                    "plot_bgcolor": "#E5ECF6",
                    "polar": {
                      "angularaxis": {
                        "gridcolor": "white",
                        "linecolor": "white",
                        "ticks": ""
                      },
                      "bgcolor": "#E5ECF6",
                      "radialaxis": {
                        "gridcolor": "white",
                        "linecolor": "white",
                        "ticks": ""
                      }
                    },
                    "scene": {
                      "xaxis": {
                        "backgroundcolor": "#E5ECF6",
                        "gridcolor": "white",
                        "gridwidth": 2,
                        "linecolor": "white",
                        "showbackground": true,
                        "ticks": "",
                        "zerolinecolor": "white"
                      },
                      "yaxis": {
                        "backgroundcolor": "#E5ECF6",
                        "gridcolor": "white",
                        "gridwidth": 2,
                        "linecolor": "white",
                        "showbackground": true,
                        "ticks": "",
                        "zerolinecolor": "white"
                      },
                      "zaxis": {
                        "backgroundcolor": "#E5ECF6",
                        "gridcolor": "white",
                        "gridwidth": 2,
                        "linecolor": "white",
                        "showbackground": true,
                        "ticks": "",
                        "zerolinecolor": "white"
                      }
                    },
                    "shapedefaults": {
                      "line": {
                        "color": "#2a3f5f"
                      }
                    },
                    "ternary": {
                      "aaxis": {
                        "gridcolor": "white",
                        "linecolor": "white",
                        "ticks": ""
                      },
                      "baxis": {
                        "gridcolor": "white",
                        "linecolor": "white",
                        "ticks": ""
                      },
                      "bgcolor": "#E5ECF6",
                      "caxis": {
                        "gridcolor": "white",
                        "linecolor": "white",
                        "ticks": ""
                      }
                    },
                    "title": {
                      "x": 0.05
                    },
                    "xaxis": {
                      "automargin": true,
                      "gridcolor": "white",
                      "linecolor": "white",
                      "ticks": "",
                      "title": {
                        "standoff": 15
                      },
                      "zerolinecolor": "white",
                      "zerolinewidth": 2
                    },
                    "yaxis": {
                      "automargin": true,
                      "gridcolor": "white",
                      "linecolor": "white",
                      "ticks": "",
                      "title": {
                        "standoff": 15
                      },
                      "zerolinecolor": "white",
                      "zerolinewidth": 2
                    }
                  }
                },
                "title": {
                  "text": "Distribuição por Status Final"
                },
                "xaxis": {
                  "anchor": "y",
                  "domain": [
                    0,
                    1
                  ],
                  "title": {
                    "text": "Status"
                  }
                },
                "yaxis": {
                  "anchor": "x",
                  "domain": [
                    0,
                    1
                  ],
                  "title": {
                    "text": "count"
                  }
                }
              }
            }
          },
          "metadata": {},
          "output_type": "display_data"
        }
      ],
      "source": [
        "# 📈 Gráfico: Distribuição por Status Final\n",
        "px.histogram(df, x='status_final', title='Distribuição por Status Final', labels={'status_final': 'Status'})"
      ]
    },
    {
      "cell_type": "code",
      "execution_count": 23,
      "id": "68068772",
      "metadata": {},
      "outputs": [
        {
          "name": "stdout",
          "output_type": "stream",
          "text": [
            "✅ Arquivo 'analise_processos.xlsx' salvo com sucesso.\n"
          ]
        }
      ],
      "source": [
        "# 📤 Exportar para Excel\n",
        "df.to_excel(\"analise_processos.xlsx\", index=False)\n",
        "print(\"✅ Arquivo 'analise_processos.xlsx' salvo com sucesso.\")"
      ]
    }
  ],
  "metadata": {
    "kernelspec": {
      "display_name": "venv",
      "language": "python",
      "name": "python3"
    },
    "language_info": {
      "codemirror_mode": {
        "name": "ipython",
        "version": 3
      },
      "file_extension": ".py",
      "mimetype": "text/x-python",
      "name": "python",
      "nbconvert_exporter": "python",
      "pygments_lexer": "ipython3",
      "version": "3.13.3"
    }
  },
  "nbformat": 4,
  "nbformat_minor": 5
}
