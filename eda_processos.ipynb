{
  "cells": [
    {
      "cell_type": "code",
      "execution_count": 6,
      "id": "1eaaf948",
      "metadata": {},
      "outputs": [],
      "source": [
        "# 📦 Carregar bibliotecas\n",
        "import pandas as pd\n",
        "from sqlalchemy import create_engine\n",
        "from dotenv import load_dotenv\n",
        "import os\n",
        "import plotly.express as px"
      ]
    },
    {
      "cell_type": "code",
      "execution_count": 9,
      "id": "6a146995",
      "metadata": {},
      "outputs": [
        {
          "ename": "ModuleNotFoundError",
          "evalue": "No module named 'pymysql'",
          "output_type": "error",
          "traceback": [
            "\u001b[31m---------------------------------------------------------------------------\u001b[39m",
            "\u001b[31mModuleNotFoundError\u001b[39m                       Traceback (most recent call last)",
            "\u001b[36mCell\u001b[39m\u001b[36m \u001b[39m\u001b[32mIn[9]\u001b[39m\u001b[32m, line 4\u001b[39m\n\u001b[32m      2\u001b[39m load_dotenv()\n\u001b[32m      3\u001b[39m db_url = os.getenv(\u001b[33m\"\u001b[39m\u001b[33mDATABASE_URL\u001b[39m\u001b[33m\"\u001b[39m)\n\u001b[32m----> \u001b[39m\u001b[32m4\u001b[39m engine = \u001b[43mcreate_engine\u001b[49m\u001b[43m(\u001b[49m\u001b[43mdb_url\u001b[49m\u001b[43m)\u001b[49m\n",
            "\u001b[36mFile \u001b[39m\u001b[32m<string>:2\u001b[39m, in \u001b[36mcreate_engine\u001b[39m\u001b[34m(url, **kwargs)\u001b[39m\n",
            "\u001b[36mFile \u001b[39m\u001b[32mc:\\Users\\96207159187\\AppData\\Local\\Programs\\Python\\Python313\\Lib\\site-packages\\sqlalchemy\\util\\deprecations.py:281\u001b[39m, in \u001b[36mdeprecated_params.<locals>.decorate.<locals>.warned\u001b[39m\u001b[34m(fn, *args, **kwargs)\u001b[39m\n\u001b[32m    274\u001b[39m     \u001b[38;5;28;01mif\u001b[39;00m m \u001b[38;5;129;01min\u001b[39;00m kwargs:\n\u001b[32m    275\u001b[39m         _warn_with_version(\n\u001b[32m    276\u001b[39m             messages[m],\n\u001b[32m    277\u001b[39m             versions[m],\n\u001b[32m    278\u001b[39m             version_warnings[m],\n\u001b[32m    279\u001b[39m             stacklevel=\u001b[32m3\u001b[39m,\n\u001b[32m    280\u001b[39m         )\n\u001b[32m--> \u001b[39m\u001b[32m281\u001b[39m \u001b[38;5;28;01mreturn\u001b[39;00m \u001b[43mfn\u001b[49m\u001b[43m(\u001b[49m\u001b[43m*\u001b[49m\u001b[43margs\u001b[49m\u001b[43m,\u001b[49m\u001b[43m \u001b[49m\u001b[43m*\u001b[49m\u001b[43m*\u001b[49m\u001b[43mkwargs\u001b[49m\u001b[43m)\u001b[49m\n",
            "\u001b[36mFile \u001b[39m\u001b[32mc:\\Users\\96207159187\\AppData\\Local\\Programs\\Python\\Python313\\Lib\\site-packages\\sqlalchemy\\engine\\create.py:602\u001b[39m, in \u001b[36mcreate_engine\u001b[39m\u001b[34m(url, **kwargs)\u001b[39m\n\u001b[32m    600\u001b[39m         \u001b[38;5;28;01mif\u001b[39;00m k \u001b[38;5;129;01min\u001b[39;00m kwargs:\n\u001b[32m    601\u001b[39m             dbapi_args[k] = pop_kwarg(k)\n\u001b[32m--> \u001b[39m\u001b[32m602\u001b[39m     dbapi = \u001b[43mdbapi_meth\u001b[49m\u001b[43m(\u001b[49m\u001b[43m*\u001b[49m\u001b[43m*\u001b[49m\u001b[43mdbapi_args\u001b[49m\u001b[43m)\u001b[49m\n\u001b[32m    604\u001b[39m dialect_args[\u001b[33m\"\u001b[39m\u001b[33mdbapi\u001b[39m\u001b[33m\"\u001b[39m] = dbapi\n\u001b[32m    606\u001b[39m dialect_args.setdefault(\u001b[33m\"\u001b[39m\u001b[33mcompiler_linting\u001b[39m\u001b[33m\"\u001b[39m, compiler.NO_LINTING)\n",
            "\u001b[36mFile \u001b[39m\u001b[32mc:\\Users\\96207159187\\AppData\\Local\\Programs\\Python\\Python313\\Lib\\site-packages\\sqlalchemy\\dialects\\mysql\\pymysql.py:74\u001b[39m, in \u001b[36mMySQLDialect_pymysql.import_dbapi\u001b[39m\u001b[34m(cls)\u001b[39m\n\u001b[32m     72\u001b[39m \u001b[38;5;129m@classmethod\u001b[39m\n\u001b[32m     73\u001b[39m \u001b[38;5;28;01mdef\u001b[39;00m\u001b[38;5;250m \u001b[39m\u001b[34mimport_dbapi\u001b[39m(\u001b[38;5;28mcls\u001b[39m):\n\u001b[32m---> \u001b[39m\u001b[32m74\u001b[39m     \u001b[38;5;28;01mreturn\u001b[39;00m \u001b[38;5;28;43m__import__\u001b[39;49m\u001b[43m(\u001b[49m\u001b[33;43m\"\u001b[39;49m\u001b[33;43mpymysql\u001b[39;49m\u001b[33;43m\"\u001b[39;49m\u001b[43m)\u001b[49m\n",
            "\u001b[31mModuleNotFoundError\u001b[39m: No module named 'pymysql'"
          ]
        }
      ],
      "source": [
        "# 🔐 Conectar usando o .env\n",
        "load_dotenv()\n",
        "db_url = os.getenv(\"DATABASE_URL\")\n",
        "engine = create_engine(db_url)"
      ]
    },
    {
      "cell_type": "code",
      "execution_count": null,
      "id": "2d79828e",
      "metadata": {},
      "outputs": [],
      "source": [
        "# 📥 Carregar dados da VIEW vw_processos_completos\n",
        "df = pd.read_sql(\"SELECT * FROM vw_processos_completos\", con=engine)\n",
        "df.head()"
      ]
    },
    {
      "cell_type": "code",
      "execution_count": null,
      "id": "af481a4e",
      "metadata": {},
      "outputs": [],
      "source": [
        "# 📈 Informações gerais do DataFrame\n",
        "df.info()"
      ]
    },
    {
      "cell_type": "code",
      "execution_count": null,
      "id": "1d8a5d68",
      "metadata": {},
      "outputs": [],
      "source": [
        "# 📊 Quantidade por status final\n",
        "df['status_final'].value_counts()"
      ]
    },
    {
      "cell_type": "code",
      "execution_count": null,
      "id": "10e9e4e4",
      "metadata": {},
      "outputs": [],
      "source": [
        "# 📍 Quantidade por Região Administrativa (RA)\n",
        "df['ra_origem'].value_counts()"
      ]
    },
    {
      "cell_type": "code",
      "execution_count": null,
      "id": "9b78025d",
      "metadata": {},
      "outputs": [],
      "source": [
        "# 🗓️ Processos por mês de entrada na Novacap\n",
        "df['data_entrada_novacap'] = pd.to_datetime(df['data_entrada_novacap'], errors='coerce')\n",
        "df['mes_ano'] = df['data_entrada_novacap'].dt.to_period('M').astype(str)\n",
        "df['mes_ano'].value_counts().sort_index()\n"
      ]
    },
    {
      "cell_type": "code",
      "execution_count": null,
      "id": "2777e371",
      "metadata": {},
      "outputs": [],
      "source": [
        "# 📈 Gráfico: Processos por RA\n",
        "px.bar(df, x='ra_origem', title='Processos por Região Administrativa (RA)', labels={'ra_origem': 'Região Administrativa'})"
      ]
    },
    {
      "cell_type": "code",
      "execution_count": null,
      "id": "0506f94d",
      "metadata": {},
      "outputs": [],
      "source": [
        "# 📈 Gráfico: Distribuição por Status Final\n",
        "px.histogram(df, x='status_final', title='Distribuição por Status Final', labels={'status_final': 'Status'})"
      ]
    },
    {
      "cell_type": "code",
      "execution_count": null,
      "id": "68068772",
      "metadata": {},
      "outputs": [],
      "source": [
        "# 📤 Exportar para Excel\n",
        "df.to_excel(\"analise_processos.xlsx\", index=False)\n",
        "print(\"✅ Arquivo 'analise_processos.xlsx' salvo com sucesso.\")"
      ]
    }
  ],
  "metadata": {
    "kernelspec": {
      "display_name": "Python 3",
      "language": "python",
      "name": "python3"
    },
    "language_info": {
      "codemirror_mode": {
        "name": "ipython",
        "version": 3
      },
      "file_extension": ".py",
      "mimetype": "text/x-python",
      "name": "python",
      "nbconvert_exporter": "python",
      "pygments_lexer": "ipython3",
      "version": "3.13.5"
    }
  },
  "nbformat": 4,
  "nbformat_minor": 5
}
