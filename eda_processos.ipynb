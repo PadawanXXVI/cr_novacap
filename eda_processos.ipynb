{
  "cells": [
    {
      "cell_type": "code",
      "execution_count": null,
      "id": "1eaaf948",
      "metadata": {},
      "outputs": [],
      "source": [
        "# 📦 Carregar bibliotecas\n",
        "import pandas as pd\n",
        "from sqlalchemy import create_engine\n",
        "from dotenv import load_dotenv\n",
        "import os\n",
        "import plotly.express as px"
      ]
    },
    {
      "cell_type": "code",
      "execution_count": null,
      "id": "6a146995",
      "metadata": {},
      "outputs": [],
      "source": [
        "# 🔐 Conectar usando o .env\n",
        "load_dotenv()\n",
        "db_url = os.getenv(\"DATABASE_URL\")\n",
        "engine = create_engine(db_url)"
      ]
    },
    {
      "cell_type": "code",
      "execution_count": null,
      "id": "2d79828e",
      "metadata": {},
      "outputs": [],
      "source": [
        "# 📥 Carregar dados da VIEW vw_processos_completos\n",
        "df = pd.read_sql(\"SELECT * FROM vw_processos_completos\", con=engine)\n",
        "df.head()"
      ]
    },
    {
      "cell_type": "code",
      "execution_count": null,
      "id": "af481a4e",
      "metadata": {},
      "outputs": [],
      "source": [
        "# 📈 Informações gerais do DataFrame\n",
        "df.info()"
      ]
    },
    {
      "cell_type": "code",
      "execution_count": null,
      "id": "1d8a5d68",
      "metadata": {},
      "outputs": [],
      "source": [
        "# 📊 Quantidade por status final\n",
        "df['status_final'].value_counts()"
      ]
    },
    {
      "cell_type": "code",
      "execution_count": null,
      "id": "10e9e4e4",
      "metadata": {},
      "outputs": [],
      "source": [
        "# 📍 Quantidade por Região Administrativa (RA)\n",
        "df['ra_origem'].value_counts()"
      ]
    },
    {
      "cell_type": "code",
      "execution_count": null,
      "id": "9b78025d",
      "metadata": {},
      "outputs": [],
      "source": [
        "# 🗓️ Processos por mês de entrada na Novacap\n",
        "df['data_entrada_novacap'] = pd.to_datetime(df['data_entrada_novacap'])\n",
        "df['mes_ano'] = df['data_entrada_novacap'].dt.to_period('M').astype(str)\n",
        "df['mes_ano'].value_counts().sort_index()"
      ]
    },
    {
      "cell_type": "code",
      "execution_count": null,
      "id": "2777e371",
      "metadata": {},
      "outputs": [],
      "source": [
        "# 📈 Gráfico: Processos por RA\n",
        "px.bar(df, x='ra_origem', title='Processos por Região Administrativa (RA)', labels={'ra_origem': 'Região Administrativa'})"
      ]
    },
    {
      "cell_type": "code",
      "execution_count": null,
      "id": "0506f94d",
      "metadata": {},
      "outputs": [],
      "source": [
        "# 📈 Gráfico: Distribuição por Status Final\n",
        "px.histogram(df, x='status_final', title='Distribuição por Status Final', labels={'status_final': 'Status'})"
      ]
    },
    {
      "cell_type": "code",
      "execution_count": null,
      "id": "68068772",
      "metadata": {},
      "outputs": [],
      "source": [
        "# 📤 Exportar para Excel\n",
        "df.to_excel(\"analise_processos.xlsx\", index=False)\n",
        "print(\"✅ Arquivo 'analise_processos.xlsx' salvo com sucesso.\")"
      ]
    }
  ],
  "metadata": {
    "kernelspec": {
      "display_name": "Python 3",
      "language": "python",
      "name": "python3"
    },
    "language_info": {
      "name": "python",
      "version": ""
    }
  },
  "nbformat": 4,
  "nbformat_minor": 5
}
